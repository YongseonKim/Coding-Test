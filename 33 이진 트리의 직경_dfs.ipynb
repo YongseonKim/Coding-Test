{
 "cells": [
  {
   "cell_type": "code",
   "execution_count": 1,
   "metadata": {},
   "outputs": [],
   "source": [
    "# https://leetcode.com/problems/diameter-of-binary-tree/"
   ]
  },
  {
   "cell_type": "code",
   "execution_count": null,
   "metadata": {},
   "outputs": [],
   "source": [
    "# Definition for a binary tree node.\n",
    "# class TreeNode:\n",
    "#     def __init__(self, val=0, left=None, right=None):\n",
    "#         self.val = val\n",
    "#         self.left = left\n",
    "#         self.right = right\n",
    "class Solution:\n",
    "    maxlength = 0\n",
    "    def diameterOfBinaryTree(self, root: TreeNode) -> int:\n",
    "        # left 상태값 + right 상태값 + 2 (root를 거치는 겨올)\n",
    "        # dfs로 풀어보자\n",
    "        # dfs로 바닥까지 내려간후에 1 씩 더해가면서 backtracking을 시킨다.\n",
    "        if not root:\n",
    "            return 0\n",
    "        \n",
    "        def dfs(node):\n",
    "            if not node:#node is None :\n",
    "                return -1 # 아무것도 없으면 -1\n",
    "            left = dfs(node.left)\n",
    "            right  = dfs(node.right)\n",
    "            self.maxlength = max(self.maxlength, left+right+2) # class 이기 때문에 Self를 써야함\n",
    "            return max(left,right )+1 # 바닥에서부터 1씩 올라오는건 맞아\n",
    "        \n",
    " \n",
    "        dfs(root)\n",
    "        return self.maxlength \n",
    "        \n",
    "        "
   ]
  },
  {
   "cell_type": "code",
   "execution_count": null,
   "metadata": {},
   "outputs": [],
   "source": []
  },
  {
   "cell_type": "code",
   "execution_count": null,
   "metadata": {},
   "outputs": [],
   "source": []
  }
 ],
 "metadata": {
  "kernelspec": {
   "display_name": "ion",
   "language": "python",
   "name": "ion"
  },
  "language_info": {
   "codemirror_mode": {
    "name": "ipython",
    "version": 3
   },
   "file_extension": ".py",
   "mimetype": "text/x-python",
   "name": "python",
   "nbconvert_exporter": "python",
   "pygments_lexer": "ipython3",
   "version": "3.7.7"
  }
 },
 "nbformat": 4,
 "nbformat_minor": 2
}
