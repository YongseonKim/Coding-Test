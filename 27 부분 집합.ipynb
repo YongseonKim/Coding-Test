{
 "cells": [
  {
   "cell_type": "code",
   "execution_count": 1,
   "metadata": {},
   "outputs": [],
   "source": [
    "# https://leetcode.com/problems/subsets/"
   ]
  },
  {
   "cell_type": "code",
   "execution_count": null,
   "metadata": {},
   "outputs": [],
   "source": [
    "class Solution:\n",
    "    def subsets(self, nums: List[int]) -> List[List[int]]:\n",
    "        \n",
    "        if len(nums)==0 : return []\n",
    "        results =[]\n",
    "        \n",
    "        def dfs(subset,index):\n",
    "            # if len(subset)== len(nums):\n",
    "            results.append(subset[:])\n",
    "                # return\n",
    "            for idx in range(index, len(nums)) :\n",
    "                # subset.append(nums[idx])\n",
    "                # results.append(subset)\n",
    "                dfs(subset+[nums[idx]],idx+1) # subset이 늘어난다 !\n",
    "            \n",
    "            \n",
    "            \n",
    "            \n",
    "        dfs([],0)\n",
    "        \n",
    "        return results\n",
    "        "
   ]
  },
  {
   "cell_type": "code",
   "execution_count": null,
   "metadata": {},
   "outputs": [],
   "source": [
    "# 실패작\n",
    "class Solution:\n",
    "    def subsets(self, nums: List[int]) -> List[List[int]]:\n",
    "        \n",
    "        if len(nums)==0 : return []\n",
    "        results =[]\n",
    "        \n",
    "        def dfs(subset,index):\n",
    "            if len(subset)== len(nums):\n",
    "                results.append(subset)\n",
    "                return\n",
    "            for idx in range(index, len(nums)) :\n",
    "                subset.append(nums[idx])\n",
    "                results.append(subset)\n",
    "                dfs(subset,idx+1)\n",
    "            \n",
    "            \n",
    "            \n",
    "            \n",
    "        dfs([],0)\n",
    "        \n",
    "        return results\n",
    "        "
   ]
  },
  {
   "cell_type": "code",
   "execution_count": null,
   "metadata": {},
   "outputs": [],
   "source": []
  },
  {
   "cell_type": "code",
   "execution_count": null,
   "metadata": {},
   "outputs": [],
   "source": []
  }
 ],
 "metadata": {
  "kernelspec": {
   "display_name": "ion",
   "language": "python",
   "name": "ion"
  },
  "language_info": {
   "codemirror_mode": {
    "name": "ipython",
    "version": 3
   },
   "file_extension": ".py",
   "mimetype": "text/x-python",
   "name": "python",
   "nbconvert_exporter": "python",
   "pygments_lexer": "ipython3",
   "version": "3.7.7"
  }
 },
 "nbformat": 4,
 "nbformat_minor": 4
}
