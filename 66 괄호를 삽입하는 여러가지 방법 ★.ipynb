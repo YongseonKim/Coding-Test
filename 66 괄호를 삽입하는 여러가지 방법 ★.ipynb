{
 "cells": [
  {
   "cell_type": "code",
   "execution_count": 1,
   "metadata": {},
   "outputs": [],
   "source": [
    "# https://leetcode.com/problems/different-ways-to-add-parentheses/"
   ]
  },
  {
   "cell_type": "code",
   "execution_count": null,
   "metadata": {},
   "outputs": [],
   "source": [
    "class Solution:\n",
    "    def diffWaysToCompute(self, input: str) -> List[int]:\n",
    "        #분할 정복\n",
    "        # 분할 정복은 들어오면 기준점을 잡아서 왼쪽 오른쪽으로 우선 자른다.\n",
    "        # input=\"2*3-4*5\"\n",
    "        \n",
    "        def compute(left, right, op):\n",
    "            results = []\n",
    "            for l in left :\n",
    "                for r in right :\n",
    "                    results.append(eval(str(l)+ op + str(r)))\n",
    "                    # print(results, left, right)\n",
    "            return results\n",
    "        \n",
    "        \n",
    "        if input.isdigit(): #숫자이면\n",
    "            return [int(input)]\n",
    "        \n",
    "        results = []\n",
    "        \n",
    "        for index, value in enumerate(input):\n",
    "            if value in '-*+': # 하나를 기점으로 왼쪽 오른쪽을 나누는 거네\n",
    "                # 왼쪽 오른쪽을 자르자\n",
    "                # 왼쪽, 오른쪽 각각의 결과를 받아서 연산하는 것\n",
    "                left = self.diffWaysToCompute(input[:index])\n",
    "                right = self.diffWaysToCompute(input[index+1:])\n",
    "                \n",
    "                results.extend(compute(left,right, value))\n",
    "            # print(11, results)\n",
    "        return results"
   ]
  },
  {
   "cell_type": "code",
   "execution_count": null,
   "metadata": {},
   "outputs": [],
   "source": []
  },
  {
   "cell_type": "code",
   "execution_count": null,
   "metadata": {},
   "outputs": [],
   "source": []
  },
  {
   "cell_type": "code",
   "execution_count": null,
   "metadata": {},
   "outputs": [],
   "source": []
  }
 ],
 "metadata": {
  "kernelspec": {
   "display_name": "ion",
   "language": "python",
   "name": "ion"
  },
  "language_info": {
   "codemirror_mode": {
    "name": "ipython",
    "version": 3
   },
   "file_extension": ".py",
   "mimetype": "text/x-python",
   "name": "python",
   "nbconvert_exporter": "python",
   "pygments_lexer": "ipython3",
   "version": "3.7.7"
  }
 },
 "nbformat": 4,
 "nbformat_minor": 4
}
