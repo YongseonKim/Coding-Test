{
 "cells": [
  {
   "cell_type": "code",
   "execution_count": 1,
   "metadata": {},
   "outputs": [],
   "source": [
    "# https://leetcode.com/problems/3sum/"
   ]
  },
  {
   "cell_type": "code",
   "execution_count": null,
   "metadata": {},
   "outputs": [],
   "source": [
    "class Solution:\n",
    "    def threeSum(self, nums: List[int]) -> List[List[int]]:\n",
    "        # Brute-pos 방식으로 n 3 제곱 형태로 풀어내는 건 옳지 않다.\n",
    "        # 백프로 타임아웃\n",
    "        # Two point 방식으로 정렬한 이후에 하나씩 옮겨가면서 해보자.\n",
    "        \n",
    "\n",
    "        nums.sort()\n",
    "               \n",
    "        if len(nums) < 3:\n",
    "            return []\n",
    "        result =[]\n",
    "        for i in range(len(nums)-2):\n",
    "             # 중복된 값 넘기기\n",
    "            if i >0 and nums[i] == nums[i-1]:\n",
    "                continue \n",
    "            left, right = i+1, len(nums)-1\n",
    "            while left< right :\n",
    "                ttl = nums[i]+nums[left]+nums[right]\n",
    "                if ttl<0 : # ttl이 음수이면 left를 키우는 것\n",
    "                    left +=1\n",
    "                elif ttl>0 :\n",
    "                    right -=1\n",
    "                else :\n",
    "                    result.append((nums[i],nums[left],nums[right]))\n",
    "                    \n",
    "                    # nums[left], nums[right] 똑같은 것은 skip\n",
    "                    while left < right and nums[left] == nums[left+1]:\n",
    "                        left +=1\n",
    "                    while left < right and nums[right] == nums[right-1]:\n",
    "                        right -=1\n",
    "                        \n",
    "                    left +=1\n",
    "                    right -=1\n",
    "                    \n",
    "        return result\n",
    "                    \n",
    "            "
   ]
  },
  {
   "cell_type": "code",
   "execution_count": null,
   "metadata": {},
   "outputs": [],
   "source": []
  },
  {
   "cell_type": "code",
   "execution_count": null,
   "metadata": {},
   "outputs": [],
   "source": []
  }
 ],
 "metadata": {
  "kernelspec": {
   "display_name": "Python 3",
   "language": "python",
   "name": "python3"
  },
  "language_info": {
   "codemirror_mode": {
    "name": "ipython",
    "version": 3
   },
   "file_extension": ".py",
   "mimetype": "text/x-python",
   "name": "python",
   "nbconvert_exporter": "python",
   "pygments_lexer": "ipython3",
   "version": "3.7.7"
  }
 },
 "nbformat": 4,
 "nbformat_minor": 4
}
