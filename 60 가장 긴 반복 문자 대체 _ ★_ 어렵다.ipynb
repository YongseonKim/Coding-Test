{
 "cells": [
  {
   "cell_type": "code",
   "execution_count": 1,
   "metadata": {},
   "outputs": [],
   "source": [
    "# https://leetcode.com/problems/longest-repeating-character-replacement/"
   ]
  },
  {
   "cell_type": "code",
   "execution_count": 17,
   "metadata": {},
   "outputs": [
    {
     "data": {
      "text/plain": [
       "2"
      ]
     },
     "execution_count": 17,
     "metadata": {},
     "output_type": "execute_result"
    }
   ],
   "source": [
    "class Solution:\n",
    "    def characterReplacement(self, s: str, k: int) -> int:\n",
    "        # k 번만큼 변경으로 만들 수 있는 연속으로 반복된 문자열의 길이\n",
    "        \n",
    "        # right가 움직이는 것\n",
    "        # Count를 해서 하나씩 카운트를 없애는 것\n",
    "        # 카운트가 가장 큰 것과 k값과, leng을 비교하는 것\n",
    "        left = right= 0\n",
    "        count = collections.Counter()\n",
    "        \n",
    "        for right in range(1,len(s)+1): # right라는 값은 1부터 시작해야한다 index가 left는 0부터\n",
    "            \n",
    "            count[s[right-1]]+=1\n",
    "            \n",
    "            # 가장 많이 나오는 것 찾기\n",
    "            max_char = count.most_common()[0][1]\n",
    "            # print(right, count, s[right-1], max_char)\n",
    "            # left 옮기기\n",
    "            if right - left - max_char >k : # 길이 - max char 개수 가 k보다 크다면\n",
    "                #left를 한칸 옮기는 것\n",
    "                counts[s[left]]-=1\n",
    "                left +=1\n",
    "            # print(right, left)\n",
    "        return right - left\n",
    "            "
   ]
  },
  {
   "cell_type": "code",
   "execution_count": null,
   "metadata": {},
   "outputs": [],
   "source": [
    "# 삽질\n",
    "class Solution:\n",
    "    def characterReplacement(self, s: str, k: int) -> int:\n",
    "        # k 번만큼 변경으로 만들 수 있는 연속으로 반복된 문자열의 길이\n",
    "        \n",
    "        # right가 움직이는 것\n",
    "        left = 0\n",
    "        queue = collections.deque()\n",
    "        maxlen = 0\n",
    "        for left, x in enumerate(s):\n",
    "            life = 2\n",
    "            if not queue : \n",
    "                queue.append(x)\n",
    "                continue\n",
    "            \n",
    "            queue.append(x)\n",
    "            \n",
    "            dic = collections.Counter(queue)\n",
    "            while len(dic)==1:\n",
    "                "
   ]
  },
  {
   "cell_type": "code",
   "execution_count": null,
   "metadata": {},
   "outputs": [],
   "source": []
  }
 ],
 "metadata": {
  "kernelspec": {
   "display_name": "ion",
   "language": "python",
   "name": "ion"
  },
  "language_info": {
   "codemirror_mode": {
    "name": "ipython",
    "version": 3
   },
   "file_extension": ".py",
   "mimetype": "text/x-python",
   "name": "python",
   "nbconvert_exporter": "python",
   "pygments_lexer": "ipython3",
   "version": "3.7.7"
  }
 },
 "nbformat": 4,
 "nbformat_minor": 4
}
