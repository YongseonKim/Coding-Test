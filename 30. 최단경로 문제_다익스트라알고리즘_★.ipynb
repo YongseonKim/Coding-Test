{
 "cells": [
  {
   "cell_type": "code",
   "execution_count": 1,
   "metadata": {},
   "outputs": [
    {
     "ename": "SyntaxError",
     "evalue": "invalid syntax (<ipython-input-1-53240fd5e624>, line 1)",
     "output_type": "error",
     "traceback": [
      "\u001b[1;36m  File \u001b[1;32m\"<ipython-input-1-53240fd5e624>\"\u001b[1;36m, line \u001b[1;32m1\u001b[0m\n\u001b[1;33m    https://leetcode.com/problems/network-delay-time/\u001b[0m\n\u001b[1;37m           ^\u001b[0m\n\u001b[1;31mSyntaxError\u001b[0m\u001b[1;31m:\u001b[0m invalid syntax\n"
     ]
    }
   ],
   "source": [
    "# https://leetcode.com/problems/network-delay-time/"
   ]
  },
  {
   "cell_type": "code",
   "execution_count": null,
   "metadata": {},
   "outputs": [],
   "source": [
    "class Solution:\n",
    "    def networkDelayTime(self, times: List[List[int]], N: int, K: int) -> int:\n",
    "        # Graph로 전환\n",
    "        dic = collections.defaultdict(list)\n",
    "        for x,y,z in times:\n",
    "            dic[x].append((y,z)) # x: 출발지, y : 도착지, z : 소요 시간\n",
    "            \n",
    "        # 모든 노드가 신호를 받는 최단 시간 -- priority queue + heapq\n",
    "        # 모든 노드가 도달 가능한지 여부\n",
    "        # heap구조를 사용하면 항상 최소값을 불러 올 수 있다.\n",
    "        # 최단 거리는 다익스트라 알고리즘을 사용한다. queue 구조로 가장 가까운 것을 따라가는 것\n",
    "        \n",
    "        # 거리 계산 + 방문 여부 확인\n",
    "        dist = collections.defaultdict(list)\n",
    "        \n",
    "        Q = [(0,K)] # (소요시간, 정점) # 순서에 주목해야한다.\n",
    "        while Q:\n",
    "            # print(Q)\n",
    "            time, node = heapq.heappop(Q)\n",
    "            if node not in dist: \n",
    "                dist[node] = time\n",
    "                # y : 도착지, z : 소요시간\n",
    "                for y,z in dic[node]: # 더이상 연결고리가 없으면 Heap에 넣지 못하는 구나\n",
    "                    # print(y,z,22)\n",
    "                    heapq.heappush(Q,(time+z, y))\n",
    "        \n",
    "                # print(dist)\n",
    "            \n",
    "        if len(dist) == N:\n",
    "            return max(dist.values())\n",
    "        return -1\n",
    "                    "
   ]
  },
  {
   "cell_type": "code",
   "execution_count": null,
   "metadata": {},
   "outputs": [],
   "source": []
  }
 ],
 "metadata": {
  "kernelspec": {
   "display_name": "ion",
   "language": "python",
   "name": "ion"
  },
  "language_info": {
   "codemirror_mode": {
    "name": "ipython",
    "version": 3
   },
   "file_extension": ".py",
   "mimetype": "text/x-python",
   "name": "python",
   "nbconvert_exporter": "python",
   "pygments_lexer": "ipython3",
   "version": "3.7.7"
  }
 },
 "nbformat": 4,
 "nbformat_minor": 4
}
