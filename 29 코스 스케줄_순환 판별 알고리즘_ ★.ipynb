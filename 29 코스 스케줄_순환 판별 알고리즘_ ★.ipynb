{
 "cells": [
  {
   "cell_type": "code",
   "execution_count": 1,
   "metadata": {},
   "outputs": [],
   "source": [
    "# https://leetcode.com/problems/course-schedule/"
   ]
  },
  {
   "cell_type": "code",
   "execution_count": null,
   "metadata": {},
   "outputs": [],
   "source": []
  },
  {
   "cell_type": "code",
   "execution_count": null,
   "metadata": {},
   "outputs": [],
   "source": [
    "class Solution:\n",
    "    def canFinish(self, numCourses: int, prerequisites: List[List[int]]) -> bool:\n",
    "        # print(numCourses, prerequisites)\n",
    "        graph = collections.defaultdict(list)\n",
    "        for x,y in prerequisites:\n",
    "            graph[x].append(y)\n",
    "            \n",
    "        # 이미 방문한 곳을 또 방문하면 끝\n",
    "        visited = set()   ## set으로 하면 훨씬 빠르다 !!!\n",
    "        checked= set()\n",
    "        def dfs(num):\n",
    "            # print(num,visited)\n",
    "            if num in visited : return False\n",
    "            if num in checked : return True ## 가지치기 추가 \n",
    "            #num을 기점으로 다시 돌아오는지를 체크 하는 것\n",
    "            # visited.append(num)  \n",
    "            visited.add(num)\n",
    "            # 그 안에 있는 경로 다 가봐야한다.\n",
    "            while graph[num]:\n",
    "                next_num = graph[num].pop(0)    # Graph에서 빼버려서 가지치기가 자연스레 됐네            \n",
    "                if not dfs(next_num) : # True면 넘어가는 것\n",
    "                    return False\n",
    "            visited.remove(num) # 반드시 순환 체크 후에 지워줘야한다.\n",
    "            checked.add(num) ### 가지치기 \n",
    "            return True\n",
    "        \n",
    "        # 순회하면서 방문안한곳이 있는지 찾는 것\n",
    "        # for key,val in graph.items(): # dictionary size가 바뀐다.\n",
    "        for x in list(graph) :\n",
    "            if not dfs(x): \n",
    "                return False\n",
    "            \n",
    "        return True"
   ]
  },
  {
   "cell_type": "code",
   "execution_count": null,
   "metadata": {},
   "outputs": [],
   "source": [
    "class Solution:\n",
    "    def canFinish(self, numCourses: int, prerequisites: List[List[int]]) -> bool:\n",
    "        # print(numCourses, prerequisites)\n",
    "        graph = collections.defaultdict(list)\n",
    "        for x,y in prerequisites:\n",
    "            graph[x].append(y)\n",
    "            \n",
    "        # 이미 방문한 곳을 또 방문하면 끝\n",
    "        visited = set()   ## set으로 하면 훨씬 빠르다 !!!\n",
    "        \n",
    "        def dfs(num):\n",
    "            # print(num,visited)\n",
    "            if num in visited : return False\n",
    "            \n",
    "            #num을 기점으로 다시 돌아오는지를 체크 하는 것\n",
    "            # visited.append(num)  \n",
    "            visited.add(num)\n",
    "            # 그 안에 있는 경로 다 가봐야한다.\n",
    "            while graph[num]:\n",
    "                next_num = graph[num].pop(0)                \n",
    "                if not dfs(next_num) : # True면 넘어가는 것\n",
    "                    return False\n",
    "            visited.remove(num) # 반드시 순환 체크 후에 지워줘야한다.\n",
    "            \n",
    "            return True\n",
    "        \n",
    "        # 순회하면서 방문안한곳이 있는지 찾는 것\n",
    "        # for key,val in graph.items(): # dictionary size가 바뀐다.\n",
    "        for x in list(graph) :\n",
    "            if not dfs(x): \n",
    "                return False\n",
    "            \n",
    "        return True"
   ]
  },
  {
   "cell_type": "code",
   "execution_count": null,
   "metadata": {},
   "outputs": [],
   "source": [
    "class Solution:\n",
    "    def canFinish(self, numCourses: int, prerequisites: List[List[int]]) -> bool:\n",
    "        # print(numCourses, prerequisites)\n",
    "        graph = collections.defaultdict(list)\n",
    "        for x,y in prerequisites:\n",
    "            graph[x].append(y)\n",
    "            \n",
    "        # 이미 방문한 곳을 또 방문하면 끝\n",
    "        visited = []  \n",
    "        def dfs(num):\n",
    "            # print(num,visited)\n",
    "            if num in visited : return False\n",
    "            \n",
    "            #num을 기점으로 다시 돌아오는지를 체크 하는 것\n",
    "            visited.append(num)            \n",
    "            # 그 안에 있는 경로 다 가봐야한다.\n",
    "            while graph[num]:\n",
    "                next_num = graph[num].pop(0)                \n",
    "                if not dfs(next_num) : # True면 넘어가는 것\n",
    "                    return False\n",
    "            visited.remove(num) # 반드시 순환 체크 후에 지워줘야한다.\n",
    "            \n",
    "            return True\n",
    "        \n",
    "        # 순회하면서 방문안한곳이 있는지 찾는 것\n",
    "        # for key,val in graph.items(): # dictionary size가 바뀐다.\n",
    "        for x in list(graph) :\n",
    "            if not dfs(x): \n",
    "                return False\n",
    "            \n",
    "        return True"
   ]
  },
  {
   "cell_type": "code",
   "execution_count": 2,
   "metadata": {},
   "outputs": [
    {
     "ename": "NameError",
     "evalue": "name 'List' is not defined",
     "output_type": "error",
     "traceback": [
      "\u001b[1;31m---------------------------------------------------------------------------\u001b[0m",
      "\u001b[1;31mNameError\u001b[0m                                 Traceback (most recent call last)",
      "\u001b[1;32m<ipython-input-2-69dd0f38e9b2>\u001b[0m in \u001b[0;36m<module>\u001b[1;34m\u001b[0m\n\u001b[0;32m      1\u001b[0m \u001b[1;31m# 실패작\u001b[0m\u001b[1;33m\u001b[0m\u001b[1;33m\u001b[0m\u001b[1;33m\u001b[0m\u001b[0m\n\u001b[1;32m----> 2\u001b[1;33m \u001b[1;32mclass\u001b[0m \u001b[0mSolution\u001b[0m\u001b[1;33m:\u001b[0m\u001b[1;33m\u001b[0m\u001b[1;33m\u001b[0m\u001b[0m\n\u001b[0m\u001b[0;32m      3\u001b[0m     \u001b[1;32mdef\u001b[0m \u001b[0mcanFinish\u001b[0m\u001b[1;33m(\u001b[0m\u001b[0mself\u001b[0m\u001b[1;33m,\u001b[0m \u001b[0mnumCourses\u001b[0m\u001b[1;33m:\u001b[0m \u001b[0mint\u001b[0m\u001b[1;33m,\u001b[0m \u001b[0mprerequisites\u001b[0m\u001b[1;33m:\u001b[0m \u001b[0mList\u001b[0m\u001b[1;33m[\u001b[0m\u001b[0mList\u001b[0m\u001b[1;33m[\u001b[0m\u001b[0mint\u001b[0m\u001b[1;33m]\u001b[0m\u001b[1;33m]\u001b[0m\u001b[1;33m)\u001b[0m \u001b[1;33m->\u001b[0m \u001b[0mbool\u001b[0m\u001b[1;33m:\u001b[0m\u001b[1;33m\u001b[0m\u001b[1;33m\u001b[0m\u001b[0m\n\u001b[0;32m      4\u001b[0m         \u001b[1;31m# print(numCourses, prerequisites)\u001b[0m\u001b[1;33m\u001b[0m\u001b[1;33m\u001b[0m\u001b[1;33m\u001b[0m\u001b[0m\n\u001b[0;32m      5\u001b[0m         \u001b[0mgraph\u001b[0m \u001b[1;33m=\u001b[0m \u001b[0mcollections\u001b[0m\u001b[1;33m.\u001b[0m\u001b[0mdefaultdict\u001b[0m\u001b[1;33m(\u001b[0m\u001b[0mlist\u001b[0m\u001b[1;33m)\u001b[0m\u001b[1;33m\u001b[0m\u001b[1;33m\u001b[0m\u001b[0m\n",
      "\u001b[1;32m<ipython-input-2-69dd0f38e9b2>\u001b[0m in \u001b[0;36mSolution\u001b[1;34m()\u001b[0m\n\u001b[0;32m      1\u001b[0m \u001b[1;31m# 실패작\u001b[0m\u001b[1;33m\u001b[0m\u001b[1;33m\u001b[0m\u001b[1;33m\u001b[0m\u001b[0m\n\u001b[0;32m      2\u001b[0m \u001b[1;32mclass\u001b[0m \u001b[0mSolution\u001b[0m\u001b[1;33m:\u001b[0m\u001b[1;33m\u001b[0m\u001b[1;33m\u001b[0m\u001b[0m\n\u001b[1;32m----> 3\u001b[1;33m     \u001b[1;32mdef\u001b[0m \u001b[0mcanFinish\u001b[0m\u001b[1;33m(\u001b[0m\u001b[0mself\u001b[0m\u001b[1;33m,\u001b[0m \u001b[0mnumCourses\u001b[0m\u001b[1;33m:\u001b[0m \u001b[0mint\u001b[0m\u001b[1;33m,\u001b[0m \u001b[0mprerequisites\u001b[0m\u001b[1;33m:\u001b[0m \u001b[0mList\u001b[0m\u001b[1;33m[\u001b[0m\u001b[0mList\u001b[0m\u001b[1;33m[\u001b[0m\u001b[0mint\u001b[0m\u001b[1;33m]\u001b[0m\u001b[1;33m]\u001b[0m\u001b[1;33m)\u001b[0m \u001b[1;33m->\u001b[0m \u001b[0mbool\u001b[0m\u001b[1;33m:\u001b[0m\u001b[1;33m\u001b[0m\u001b[1;33m\u001b[0m\u001b[0m\n\u001b[0m\u001b[0;32m      4\u001b[0m         \u001b[1;31m# print(numCourses, prerequisites)\u001b[0m\u001b[1;33m\u001b[0m\u001b[1;33m\u001b[0m\u001b[1;33m\u001b[0m\u001b[0m\n\u001b[0;32m      5\u001b[0m         \u001b[0mgraph\u001b[0m \u001b[1;33m=\u001b[0m \u001b[0mcollections\u001b[0m\u001b[1;33m.\u001b[0m\u001b[0mdefaultdict\u001b[0m\u001b[1;33m(\u001b[0m\u001b[0mlist\u001b[0m\u001b[1;33m)\u001b[0m\u001b[1;33m\u001b[0m\u001b[1;33m\u001b[0m\u001b[0m\n",
      "\u001b[1;31mNameError\u001b[0m: name 'List' is not defined"
     ]
    }
   ],
   "source": [
    "# 실패작\n",
    "class Solution:\n",
    "    def canFinish(self, numCourses: int, prerequisites: List[List[int]]) -> bool:\n",
    "        # print(numCourses, prerequisites)\n",
    "        graph = collections.defaultdict(list)\n",
    "        for x,y in prerequisites:\n",
    "            graph[x].append(y)\n",
    "            \n",
    "        # 이미 방문한 곳을 또 방문하면 끝\n",
    "        visited = []  \n",
    "        def dfs(num):\n",
    "            print(num,visited)\n",
    "            if num in visited : return False\n",
    "            \n",
    "            # 그 안에 있는 경로 다 가봐야한다.\n",
    "            while graph[num]:\n",
    "                next_num = graph[num].pop(0)\n",
    "                visited.append(next_num)\n",
    "                dfs(next_num)\n",
    "            \n",
    "            return True\n",
    "        \n",
    "        # 순회하면서 방문안한곳이 있는지 찾는 것\n",
    "        for key,val in graph.items():\n",
    "            if not dfs(key):\n",
    "                return False"
   ]
  },
  {
   "cell_type": "code",
   "execution_count": null,
   "metadata": {},
   "outputs": [],
   "source": []
  }
 ],
 "metadata": {
  "kernelspec": {
   "display_name": "ion",
   "language": "python",
   "name": "ion"
  },
  "language_info": {
   "codemirror_mode": {
    "name": "ipython",
    "version": 3
   },
   "file_extension": ".py",
   "mimetype": "text/x-python",
   "name": "python",
   "nbconvert_exporter": "python",
   "pygments_lexer": "ipython3",
   "version": "3.7.7"
  }
 },
 "nbformat": 4,
 "nbformat_minor": 4
}
