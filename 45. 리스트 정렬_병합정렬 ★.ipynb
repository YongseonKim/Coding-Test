{
 "cells": [
  {
   "cell_type": "code",
   "execution_count": 1,
   "metadata": {},
   "outputs": [],
   "source": [
    "# https://leetcode.com/problems/sort-list/"
   ]
  },
  {
   "cell_type": "code",
   "execution_count": null,
   "metadata": {},
   "outputs": [],
   "source": [
    "# Definition for singly-linked list.\n",
    "# class ListNode:\n",
    "#     def __init__(self, val=0, next=None):\n",
    "#         self.val = val\n",
    "#         self.next = next\n",
    "class Solution:\n",
    "    \n",
    "    # 재귀로 분할된 것들을 정복하는 것\n",
    "    def mergeTwoLists(self, l1, l2):\n",
    "        \n",
    "        if l1 and l2 :\n",
    "            if l1.val > l2.val :\n",
    "                l1, l2 = l2,l1\n",
    "                \n",
    "            # l1 포인터를 우측으로 이동시키면서 붙여나가는 것 \n",
    "            l1.next = self.mergeTwoLists(l1.next,l2)\n",
    "        \n",
    "        return l1 or l2  # 둘다 값이 있으면 l1만 Return, l1 값이 없으면 l2 Return \n",
    "            \n",
    "    \n",
    "    def sortList(self, head: ListNode) -> ListNode:\n",
    "        if not (head and head.next) :\n",
    "            return head ## 더이상 뒤에 없으면 \n",
    "        \n",
    "        # 병합 정렬 풀이 : 분할 정복 기법\n",
    "        # 중앙값을 찾아야하는데 연결리스트이기에 Runner 기법을 사용해야한다.\n",
    "        \n",
    "        # fast는 두칸씩, slow는 한칸씩 가면 fast가 끝에 도착할때\n",
    "        # slow는 중앙에 도착해있을 것이다. \n",
    "        half, slow, fast = None, head, head \n",
    "        while fast and fast.next: #fast.next가 존재할때까지만 반복하는 것\n",
    "            half,slow,fast = slow, slow.next, fast.next.next ## fast는 두칸씩 가는 것\n",
    "            \n",
    "        half.next =None # 연결 리스트를 끊는 것\n",
    "        print(half)\n",
    "        \n",
    "        # 분할 : 재귀! --시작과 중앙값을 계속 쪼개나가면 결국 개별값만 남게 되고 \n",
    "        # 개별값만 남았을때부터 다시 Merge해서 올라오면 된다.\n",
    "        l1 = self.sortList(head) # 처음 입력값 : 연결 리스트  -- 중앙 기준 왼쪽\n",
    "        l2 = self.sortList(slow) # 중앙 입력값 : 연결 리스트  -- 중앙 기준 오른쪽\n",
    "        \n",
    "        return self.mergeTwoLists(l1,l2)\n",
    "        "
   ]
  },
  {
   "cell_type": "code",
   "execution_count": null,
   "metadata": {},
   "outputs": [],
   "source": [
    "# Definition for singly-linked list.\n",
    "# class ListNode:\n",
    "#     def __init__(self, val=0, next=None):\n",
    "#         self.val = val\n",
    "#         self.next = next\n",
    "class Solution:\n",
    "    def sortList(self, head: ListNode) -> ListNode:\n",
    "        \n",
    "        # 연결 리스트 → 리스트 → 정렬 → 연결리스트\n",
    "        \n",
    "        # 리스트 전환\n",
    "        lst =[]\n",
    "        p = head\n",
    "        while p :\n",
    "            lst.append(p.val)\n",
    "            p = p.next\n",
    "            \n",
    "        # print(lst)\n",
    "        lst.sort()\n",
    "        \n",
    "        # 연결 리스트 전환\n",
    "        p = head\n",
    "        for i in range(len(lst)):\n",
    "            p.val = lst[i]\n",
    "            p = p.next\n",
    "        return head"
   ]
  },
  {
   "cell_type": "code",
   "execution_count": null,
   "metadata": {},
   "outputs": [],
   "source": []
  }
 ],
 "metadata": {
  "kernelspec": {
   "display_name": "ion",
   "language": "python",
   "name": "ion"
  },
  "language_info": {
   "codemirror_mode": {
    "name": "ipython",
    "version": 3
   },
   "file_extension": ".py",
   "mimetype": "text/x-python",
   "name": "python",
   "nbconvert_exporter": "python",
   "pygments_lexer": "ipython3",
   "version": "3.7.7"
  }
 },
 "nbformat": 4,
 "nbformat_minor": 4
}
