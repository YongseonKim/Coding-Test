{
 "cells": [
  {
   "cell_type": "code",
   "execution_count": null,
   "metadata": {},
   "outputs": [],
   "source": [
    "# https://leetcode.com/problems/k-closest-points-to-origin/submissions/"
   ]
  },
  {
   "cell_type": "code",
   "execution_count": null,
   "metadata": {},
   "outputs": [],
   "source": []
  },
  {
   "cell_type": "code",
   "execution_count": null,
   "metadata": {},
   "outputs": [],
   "source": [
    "# Key 를 사용한 정렬로 해결했다.\n",
    "\n",
    "class Solution:\n",
    "    \n",
    "    def chk(self,x) :\n",
    "        \n",
    "        return math.sqrt(x[0]**2+x[1]**2)# < math.sqrt(y[0]**2+y[1]**2)\n",
    "    \n",
    "    def kClosest(self, points: List[List[int]], K: int) -> List[List[int]]:\n",
    "        \n",
    "        print(points)\n",
    "        \n",
    "        points = sorted(points, key = lambda x :self.chk(x))\n",
    "        \n",
    "        return points[:K]"
   ]
  },
  {
   "cell_type": "code",
   "execution_count": null,
   "metadata": {},
   "outputs": [],
   "source": [
    "# 힙을 사용해서 해결했다. 거리라는게 있으니까\n",
    "class Solution:\n",
    "    \n",
    "    def chk(self,x) :\n",
    "        \n",
    "        return math.sqrt(x[0]**2+x[1]**2)\n",
    "    \n",
    "    def kClosest(self, points: List[List[int]], K: int) -> List[List[int]]:\n",
    "        \n",
    "        # 거리 기반으로 하는 거면 우선순위 큐, heapq 가 직방이다.\n",
    "        results = []\n",
    "        for x in points:\n",
    "            heapq.heappush(results,(self.chk(x),x))\n",
    "            \n",
    "        final = []\n",
    "        for _ in range(K):\n",
    "            final.append(heapq.heappop(results)[1])        \n",
    "        return final"
   ]
  }
 ],
 "metadata": {
  "kernelspec": {
   "display_name": "ion",
   "language": "python",
   "name": "ion"
  },
  "language_info": {
   "codemirror_mode": {
    "name": "ipython",
    "version": 3
   },
   "file_extension": ".py",
   "mimetype": "text/x-python",
   "name": "python",
   "nbconvert_exporter": "python",
   "pygments_lexer": "ipython3",
   "version": "3.7.7"
  }
 },
 "nbformat": 4,
 "nbformat_minor": 4
}
