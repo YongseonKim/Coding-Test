{
 "cells": [
  {
   "cell_type": "code",
   "execution_count": 1,
   "metadata": {},
   "outputs": [],
   "source": [
    "# https://leetcode.com/problems/invert-binary-tree/"
   ]
  },
  {
   "cell_type": "code",
   "execution_count": null,
   "metadata": {},
   "outputs": [],
   "source": [
    "# Definition for a binary tree node.\n",
    "# class TreeNode:\n",
    "#     def __init__(self, val=0, left=None, right=None):\n",
    "#         self.val = val\n",
    "#         self.left = left\n",
    "#         self.right = right\n",
    "class Solution:\n",
    "    def invertTree(self, root: TreeNode) -> TreeNode:\n",
    "        #left,right 를 바꾸면 된다.\n",
    "        # node를 dfs로 쭉 내리면서\n",
    "        \n",
    "        # def dfs(node):\n",
    "        if root is None :\n",
    "            return \n",
    "        # if node.left and node.right:\n",
    "        root.left, root.right = root.right, root.left\n",
    "\n",
    "        self.invertTree(root.left)\n",
    "        self.invertTree(root.right)\n",
    "\n",
    "        return root\n",
    "            \n",
    "        # return i(root)\n",
    "        \n",
    "        "
   ]
  },
  {
   "cell_type": "code",
   "execution_count": null,
   "metadata": {},
   "outputs": [],
   "source": [
    "# Definition for a binary tree node.\n",
    "# class TreeNode:\n",
    "#     def __init__(self, val=0, left=None, right=None):\n",
    "#         self.val = val\n",
    "#         self.left = left\n",
    "#         self.right = right\n",
    "class Solution:\n",
    "    def invertTree(self, root: TreeNode) -> TreeNode:\n",
    "        #left,right 를 바꾸면 된다.\n",
    "        # node를 dfs로 쭉 내리면서\n",
    "        \n",
    "        def dfs(node):\n",
    "            if node is None :\n",
    "                return \n",
    "            # if node.left and node.right:\n",
    "            node.left, node.right = node.right, node.left\n",
    "                \n",
    "            dfs(node.left)\n",
    "            dfs(node.right)\n",
    "            \n",
    "            return node\n",
    "            \n",
    "        return dfs(root)\n",
    "        \n",
    "        "
   ]
  },
  {
   "cell_type": "code",
   "execution_count": null,
   "metadata": {},
   "outputs": [],
   "source": []
  },
  {
   "cell_type": "code",
   "execution_count": null,
   "metadata": {},
   "outputs": [],
   "source": []
  }
 ],
 "metadata": {
  "kernelspec": {
   "display_name": "ion",
   "language": "python",
   "name": "ion"
  },
  "language_info": {
   "codemirror_mode": {
    "name": "ipython",
    "version": 3
   },
   "file_extension": ".py",
   "mimetype": "text/x-python",
   "name": "python",
   "nbconvert_exporter": "python",
   "pygments_lexer": "ipython3",
   "version": "3.7.7"
  }
 },
 "nbformat": 4,
 "nbformat_minor": 2
}
