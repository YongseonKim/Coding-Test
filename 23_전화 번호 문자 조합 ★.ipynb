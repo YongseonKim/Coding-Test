{
 "cells": [
  {
   "cell_type": "code",
   "execution_count": 1,
   "metadata": {},
   "outputs": [],
   "source": [
    "# https://leetcode.com/problems/letter-combinations-of-a-phone-number/"
   ]
  },
  {
   "cell_type": "code",
   "execution_count": null,
   "metadata": {},
   "outputs": [],
   "source": [
    "class Solution:\n",
    "    def letterCombinations(self, digits: str) -> List[str]:\n",
    "        grid = {'2': 'abc',\n",
    "               '3': 'def',\n",
    "               '4': 'ghi',\n",
    "               '5': 'jkl',\n",
    "               '6': 'mno',\n",
    "               '7': 'pqrs',\n",
    "               '8': 'tuv',\n",
    "               '9': 'wxyz'}\n",
    "        \n",
    "        if not digits : return []\n",
    "        result =[]\n",
    "        \n",
    "        # dfs 로 풀어야한다.\n",
    "        def dfs(index, path):\n",
    "            if len(path) ==  len(digits):\n",
    "                result.append(path) # path에 흔적을 남기는 것\n",
    "                # result에 계속 저장\n",
    "                return\n",
    "            \n",
    "            # Depth가 되겠네\n",
    "            for i in range(index, len(digits)):\n",
    "                # 숫자에 해당하는 문자 반복\n",
    "                for j in grid[digits[i]]:\n",
    "                    dfs(i+1, path+j)  # i+1 depth가 깊어지고, path+1 흔적을 남긴다\n",
    "\n",
    "\n",
    "        dfs(0,\"\")\n",
    "        return result\n",
    "        "
   ]
  },
  {
   "cell_type": "code",
   "execution_count": null,
   "metadata": {},
   "outputs": [],
   "source": []
  },
  {
   "cell_type": "code",
   "execution_count": null,
   "metadata": {},
   "outputs": [],
   "source": []
  }
 ],
 "metadata": {
  "kernelspec": {
   "display_name": "Python 3",
   "language": "python",
   "name": "python3"
  },
  "language_info": {
   "codemirror_mode": {
    "name": "ipython",
    "version": 3
   },
   "file_extension": ".py",
   "mimetype": "text/x-python",
   "name": "python",
   "nbconvert_exporter": "python",
   "pygments_lexer": "ipython3",
   "version": "3.7.7"
  }
 },
 "nbformat": 4,
 "nbformat_minor": 4
}
