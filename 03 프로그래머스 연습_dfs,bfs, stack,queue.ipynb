{
 "cells": [
  {
   "cell_type": "code",
   "execution_count": 28,
   "metadata": {},
   "outputs": [
    {
     "name": "stdout",
     "output_type": "stream",
     "text": [
      "['A']\n",
      "['B', 'C']\n",
      "['B', 'C']\n",
      "['C', 'D', 'E']\n",
      "['C', 'D', 'E']\n",
      "['D', 'E', 'F']\n",
      "['D', 'E', 'F']\n",
      "['E', 'F']\n",
      "['E', 'F']\n",
      "['F', 'F']\n",
      "['F', 'F']\n",
      "['F']\n",
      "['F']\n",
      "['A', 'B', 'C', 'D', 'E', 'F']\n",
      "['C', 'B']\n",
      "['C', 'E', 'D']\n",
      "['C', 'E']\n",
      "['C', 'F']\n",
      "['C', 'C']\n",
      "['C']\n",
      "[]\n",
      "['A', 'B', 'D', 'E', 'F', 'C']\n",
      "Wall time: 1 ms\n"
     ]
    }
   ],
   "source": [
    "%%time\n",
    "#DFS, BFS : https://www.acmicpc.net/problem/1260\n",
    "# http://ejklike.github.io/2018/01/05/bfs-and-dfs.html\n",
    "from collections import deque\n",
    "\n",
    "\n",
    "\n",
    "# Graph 구현하기\n",
    "# 이중 Dictionary를 사용 : \n",
    "# {\"A\":set([\"B\",\"C\"]),\"B\":set(\"B\",\"C\")} -- # 인접 리스트\n",
    "\n",
    "def bfs(graph, start):\n",
    "    visited =[]\n",
    "    queue = [start]\n",
    "    \n",
    "    while queue:\n",
    "        print(queue)\n",
    "        n= queue.pop(0)\n",
    "        if n not in visited:\n",
    "            visited.append(n)\n",
    "            queue += graph[n] - set(visited)   # 차집합을 구하려고 set을 썼구나\n",
    "            # graph 상에서 n에 연결된 애들을 모두 제외하고 나머지 애들을 queue에 넣는다. \n",
    "            # 다음 \n",
    "            print(queue)\n",
    "    return visited\n",
    "\n",
    "def dfs(graph, start):\n",
    "    visited =[]\n",
    "    stack = [start]\n",
    "    \n",
    "    while stack:\n",
    "        n = stack.pop()\n",
    "        if n not in visited:\n",
    "            visited.append(n)\n",
    "            stack += reversed(list(graph[n]-set(visited)))\n",
    "        print(stack)\n",
    "    return visited\n",
    "\n",
    "    \n",
    "graph = {1:set([2,3,4]),\n",
    "     2:set([4]),\n",
    "     3:set([4]),\n",
    "     4:set([1,2,3]),\n",
    "    }\n",
    "\n",
    "graph = {'A': set(['B', 'C']),\n",
    "         'B': set(['A', 'D', 'E']),\n",
    "         'C': set(['A', 'F']),\n",
    "         'D': set(['B']),\n",
    "         'E': set(['B', 'F']),\n",
    "         'F': set(['C', 'E'])}\n",
    "\n",
    "print(bfs(graph, 'A'))\n",
    "print(dfs(graph, 'A'))\n",
    "\n",
    "# n,m,v=map(int,input().split())\n",
    "\n",
    "# a=[[]*(n+1) for i in range(n+1)]\n",
    "\n",
    "# for i in range(m):\n",
    "#     x, y=map(int,input().split())\n",
    "#     a[x].append(y)\n",
    "#     a[y].append(x)\n",
    "    \n",
    "# for x in a:\n",
    "#     x.sort()\n",
    "    \n",
    "# ch=[False]*(n+1)\n",
    "# dfs(v)\n",
    "\n",
    "# print()\n",
    "# che=[False]*(n+1)\n",
    "# bfs(v)"
   ]
  },
  {
   "cell_type": "code",
   "execution_count": 30,
   "metadata": {},
   "outputs": [
    {
     "name": "stdout",
     "output_type": "stream",
     "text": [
      "deque(['A'])\n",
      "deque(['B', 'C'])\n",
      "deque(['B', 'C'])\n",
      "deque(['C', 'D', 'E'])\n",
      "deque(['C', 'D', 'E'])\n",
      "deque(['D', 'E', 'F'])\n",
      "deque(['D', 'E', 'F'])\n",
      "deque(['E', 'F'])\n",
      "deque(['E', 'F'])\n",
      "deque(['F', 'F'])\n",
      "deque(['F', 'F'])\n",
      "deque(['F'])\n",
      "deque(['F'])\n",
      "['A', 'B', 'C', 'D', 'E', 'F']\n",
      "deque(['B', 'C'])\n",
      "deque(['B', 'F'])\n",
      "deque(['B', 'E'])\n",
      "deque(['B', 'B'])\n",
      "deque(['B', 'D'])\n",
      "deque(['B'])\n",
      "deque([])\n",
      "['A', 'C', 'F', 'E', 'B', 'D']\n",
      "Wall time: 0 ns\n"
     ]
    }
   ],
   "source": [
    "%%time\n",
    "#DFS, BFS : https://www.acmicpc.net/problem/1260\n",
    "# http://ejklike.github.io/2018/01/05/bfs-and-dfs.html\n",
    "from collections import deque\n",
    "\n",
    "\n",
    "\n",
    "# Graph 구현하기\n",
    "# 이중 Dictionary를 사용 : \n",
    "# {\"A\":set([\"B\",\"C\"]),\"B\":set(\"B\",\"C\")} -- # 인접 리스트\n",
    "\n",
    "def bfs(graph, start):\n",
    "    visited =[]\n",
    "    queue = deque([start])\n",
    "    \n",
    "    while queue:\n",
    "        print(queue)\n",
    "        n= queue.popleft()\n",
    "        if n not in visited:\n",
    "            visited.append(n)\n",
    "            queue += graph[n] - set(visited)   # 차집합을 구하려고 set을 썼구나\n",
    "            # graph 상에서 n에 연결된 애들을 모두 제외하고 나머지 애들을 queue에 넣는다. \n",
    "            # 다음 \n",
    "            print(queue)\n",
    "    return visited\n",
    "\n",
    "def dfs(graph, start):\n",
    "    visited =[]\n",
    "    stack = deque([start])\n",
    "    \n",
    "    while stack:\n",
    "        n = stack.pop()\n",
    "        if n not in visited:\n",
    "            visited.append(n)\n",
    "            stack += graph[n]-set(visited)#reversed(list(graph[n]-set(visited)))\n",
    "        print(stack)\n",
    "    return visited\n",
    "\n",
    "    \n",
    "graph = {1:set([2,3,4]),\n",
    "     2:set([4]),\n",
    "     3:set([4]),\n",
    "     4:set([1,2,3]),\n",
    "    }\n",
    "graph = {'A': set(['B', 'C']),\n",
    "         'B': set(['A', 'D', 'E']),\n",
    "         'C': set(['A', 'F']),\n",
    "         'D': set(['B']),\n",
    "         'E': set(['B', 'F']),\n",
    "         'F': set(['C', 'E'])}\n",
    "\n",
    "print(bfs(graph, 'A'))\n",
    "print(dfs(graph, 'A'))\n",
    "\n",
    "# n,m,v=map(int,input().split())\n",
    "\n",
    "# a=[[]*(n+1) for i in range(n+1)]\n",
    "\n",
    "# for i in range(m):\n",
    "#     x, y=map(int,input().split())\n",
    "#     a[x].append(y)\n",
    "#     a[y].append(x)\n",
    "    \n",
    "# for x in a:\n",
    "#     x.sort()\n",
    "    \n",
    "# ch=[False]*(n+1)\n",
    "# dfs(v)\n",
    "\n",
    "# print()\n",
    "# che=[False]*(n+1)\n",
    "# bfs(v)\n"
   ]
  },
  {
   "cell_type": "code",
   "execution_count": 48,
   "metadata": {},
   "outputs": [
    {
     "name": "stdout",
     "output_type": "stream",
     "text": [
      "['A']\n",
      "['A', 'B']\n",
      "['A', 'B', 'C']\n",
      "['A', 'B', 'C', 'D']\n",
      "['A', 'B', 'C', 'D', 'E']\n",
      "['A', 'B', 'C', 'D', 'E', 'F']\n"
     ]
    },
    {
     "data": {
      "text/plain": [
       "['A', 'B', 'C', 'D', 'E', 'F']"
      ]
     },
     "execution_count": 48,
     "metadata": {},
     "output_type": "execute_result"
    }
   ],
   "source": [
    "# bfs 구현하기\n",
    "\n",
    "# queue를 이용해서 구현한다.\n",
    "def bfs(graph,start):\n",
    "    visited = []\n",
    "    queue = [start]\n",
    "    \n",
    "    while queue:\n",
    "        cur = queue.pop(0)\n",
    "#         print(cur)\n",
    "        if cur not in visited:\n",
    "            visited.append(cur)\n",
    "            print(visited)\n",
    "#             print(graph[cur],set(visited))\n",
    "            queue += graph[cur]-set(visited)\n",
    "#         print(cur)\n",
    "    return visited\n",
    "    \n",
    "\n",
    "graph = {'A': set(['B', 'C']),\n",
    "         'B': set(['A', 'D', 'E']),\n",
    "         'C': set(['A', 'F']),\n",
    "         'D': set(['B']),\n",
    "         'E': set(['B', 'F']),\n",
    "         'F': set(['C', 'E'])}\n",
    "\n",
    "bfs(graph,'A')"
   ]
  },
  {
   "cell_type": "code",
   "execution_count": 49,
   "metadata": {},
   "outputs": [
    {
     "data": {
      "text/plain": [
       "['A', 'C', 'F', 'E', 'B', 'D']"
      ]
     },
     "execution_count": 49,
     "metadata": {},
     "output_type": "execute_result"
    }
   ],
   "source": [
    "\n",
    "def dfs(graph, start):\n",
    "    visited =[]\n",
    "    stack = [start]\n",
    "    \n",
    "    while stack:\n",
    "        cur = stack.pop()\n",
    "        \n",
    "        if cur not in visited :\n",
    "            visited.append(cur)\n",
    "            stack += graph[cur] - set(visited)\n",
    "            \n",
    "    return visited\n",
    "    \n",
    "graph = {'A': set(['B', 'C']),\n",
    "         'B': set(['A', 'D', 'E']),\n",
    "         'C': set(['A', 'F']),\n",
    "         'D': set(['B']),\n",
    "         'E': set(['B', 'F']),\n",
    "         'F': set(['C', 'E'])}\n",
    "\n",
    "dfs(graph,'A')"
   ]
  },
  {
   "cell_type": "code",
   "execution_count": null,
   "metadata": {},
   "outputs": [],
   "source": []
  },
  {
   "cell_type": "code",
   "execution_count": 62,
   "metadata": {},
   "outputs": [
    {
     "data": {
      "text/plain": [
       "4"
      ]
     },
     "execution_count": 62,
     "metadata": {},
     "output_type": "execute_result"
    }
   ],
   "source": [
    "lst = [1,2,3,4,5]\n",
    "# lst2 = lst[::-1]\n",
    "# print(lst.index(5))\n",
    "# print(lst2.index(5)-1)\n",
    "\n",
    "lst.pop(3)"
   ]
  },
  {
   "cell_type": "code",
   "execution_count": 74,
   "metadata": {},
   "outputs": [
    {
     "data": {
      "text/plain": [
       "[5]"
      ]
     },
     "execution_count": 74,
     "metadata": {},
     "output_type": "execute_result"
    }
   ],
   "source": [
    "\n",
    "lst[-1:5]"
   ]
  }
 ],
 "metadata": {
  "kernelspec": {
   "display_name": "Python 3",
   "language": "python",
   "name": "python3"
  },
  "language_info": {
   "codemirror_mode": {
    "name": "ipython",
    "version": 3
   },
   "file_extension": ".py",
   "mimetype": "text/x-python",
   "name": "python",
   "nbconvert_exporter": "python",
   "pygments_lexer": "ipython3",
   "version": "3.7.7"
  }
 },
 "nbformat": 4,
 "nbformat_minor": 4
}
