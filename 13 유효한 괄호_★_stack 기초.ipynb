{
 "cells": [
  {
   "cell_type": "code",
   "execution_count": 1,
   "metadata": {},
   "outputs": [],
   "source": [
    "# https://leetcode.com/problems/valid-parentheses/"
   ]
  },
  {
   "cell_type": "code",
   "execution_count": null,
   "metadata": {},
   "outputs": [],
   "source": [
    "# 혼자 해본 틀린 답\n",
    "class Solution:\n",
    "    def isValid(self, s: str) -> bool:\n",
    "        lst = []\n",
    "        s =list(s)[0]\n",
    "        for i in range(len(s)):\n",
    "            if s[i] in ['(','{','[']: #open\n",
    "                lst.append(s)\n",
    "            else:\n",
    "                if len(lst)==0 : \n",
    "                    return False\n",
    "                print(lst)\n",
    "                if lst.pop() == ']' and s[i] == '[' : \n",
    "                    continue\n",
    "                elif lst.pop() == '}' and s[i] == '{' : \n",
    "                    continue\n",
    "                elif lst.pop() == ')' and s[i] == '(' : \n",
    "                    continue\n",
    "                else: return False\n",
    "            \n",
    "        return True\n",
    "                "
   ]
  },
  {
   "cell_type": "code",
   "execution_count": null,
   "metadata": {},
   "outputs": [],
   "source": [
    "class Solution:\n",
    "    def isValid(self, s: str) -> bool:\n",
    "        # 매칭 테이블을 먼저 만든다.\n",
    "        matching = {')':'(','}':'{',']':'['}\n",
    "        stack = []\n",
    "        \n",
    "        \n",
    "        for char in s:\n",
    "            if char not in matching :\n",
    "                stack.append(char)\n",
    "            \n",
    "            elif not stack or stack.pop() != matching[char]: \n",
    "                return False\n",
    "            \n",
    "        return len(stack) ==0\n",
    "                \n",
    "                "
   ]
  }
 ],
 "metadata": {
  "kernelspec": {
   "display_name": "Python 3",
   "language": "python",
   "name": "python3"
  },
  "language_info": {
   "codemirror_mode": {
    "name": "ipython",
    "version": 3
   },
   "file_extension": ".py",
   "mimetype": "text/x-python",
   "name": "python",
   "nbconvert_exporter": "python",
   "pygments_lexer": "ipython3",
   "version": "3.7.7"
  }
 },
 "nbformat": 4,
 "nbformat_minor": 4
}
