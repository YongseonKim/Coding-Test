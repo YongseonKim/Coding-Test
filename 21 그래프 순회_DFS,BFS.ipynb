{
 "cells": [
  {
   "cell_type": "code",
   "execution_count": 1,
   "metadata": {},
   "outputs": [],
   "source": [
    "graph = {\n",
    "    1 : [2,3,4],\n",
    "    2: [5],\n",
    "    3: [5],\n",
    "    4: [],\n",
    "    5: [6,7],\n",
    "    6: [],\n",
    "    7: [3],   \n",
    "}"
   ]
  },
  {
   "cell_type": "code",
   "execution_count": 8,
   "metadata": {},
   "outputs": [
    {
     "data": {
      "text/plain": [
       "[3, 5, 7, 6]"
      ]
     },
     "execution_count": 8,
     "metadata": {},
     "output_type": "execute_result"
    }
   ],
   "source": [
    "# DFS : stack\n",
    "def stack_dfs(start):\n",
    "    discovered = []\n",
    "    stack = [start]\n",
    "    while stack:\n",
    "        v= stack.pop()\n",
    "        if v not in discovered:\n",
    "            discovered.append(v)\n",
    "            for w in graph[v]:\n",
    "                stack.append(w)\n",
    "    return discovered\n",
    "\n",
    "stack_dfs(3)"
   ]
  },
  {
   "cell_type": "code",
   "execution_count": 24,
   "metadata": {},
   "outputs": [
    {
     "name": "stdout",
     "output_type": "stream",
     "text": [
      "1 [1]\n",
      "2 [1, 2]\n",
      "5 [1, 2, 5]\n",
      "6 [1, 2, 5, 6]\n",
      "7 [1, 2, 5, 6, 7]\n",
      "3 [1, 2, 5, 6, 7, 3]\n",
      "4 [1, 2, 5, 6, 7, 3, 4]\n"
     ]
    },
    {
     "data": {
      "text/plain": [
       "[1, 2, 5, 6, 7, 3, 4]"
      ]
     },
     "execution_count": 24,
     "metadata": {},
     "output_type": "execute_result"
    }
   ],
   "source": [
    "# DFS : Recursive\n",
    "\n",
    "def recursive_dfs(start, discovered = []):\n",
    "    discovered.append(start)\n",
    "    print(start, discovered)\n",
    "    for w in graph[start]:\n",
    "        if not w in discovered :\n",
    "            recursive_dfs(w,discovered)\n",
    "    return discovered\n",
    "\n",
    "recursive_dfs(1)"
   ]
  },
  {
   "cell_type": "code",
   "execution_count": 27,
   "metadata": {},
   "outputs": [
    {
     "data": {
      "text/plain": [
       "[1, 2, 3, 4, 5, 6, 7]"
      ]
     },
     "execution_count": 27,
     "metadata": {},
     "output_type": "execute_result"
    }
   ],
   "source": [
    "# BFS\n",
    "\n",
    "def q_bfs(start):\n",
    "    discovered = [start]\n",
    "    queue = [start]\n",
    "    while queue:\n",
    "        v= queue.pop(0)\n",
    "#         print(queue, d)\n",
    "        for w in graph[v]:\n",
    "            if w not in discovered :\n",
    "                discovered.append(w)\n",
    "                queue.append(w)\n",
    "    return discovered\n",
    "q_bfs(1)"
   ]
  },
  {
   "cell_type": "code",
   "execution_count": null,
   "metadata": {},
   "outputs": [],
   "source": []
  },
  {
   "cell_type": "code",
   "execution_count": null,
   "metadata": {},
   "outputs": [],
   "source": []
  },
  {
   "cell_type": "code",
   "execution_count": null,
   "metadata": {},
   "outputs": [],
   "source": []
  },
  {
   "cell_type": "code",
   "execution_count": null,
   "metadata": {},
   "outputs": [],
   "source": []
  }
 ],
 "metadata": {
  "kernelspec": {
   "display_name": "ion",
   "language": "python",
   "name": "ion"
  },
  "language_info": {
   "codemirror_mode": {
    "name": "ipython",
    "version": 3
   },
   "file_extension": ".py",
   "mimetype": "text/x-python",
   "name": "python",
   "nbconvert_exporter": "python",
   "pygments_lexer": "ipython3",
   "version": "3.7.7"
  }
 },
 "nbformat": 4,
 "nbformat_minor": 4
}
