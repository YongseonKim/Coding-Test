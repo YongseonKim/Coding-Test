{
 "cells": [
  {
   "cell_type": "code",
   "execution_count": 1,
   "metadata": {},
   "outputs": [],
   "source": [
    "# https://leetcode.com/problems/merge-two-binary-trees/"
   ]
  },
  {
   "cell_type": "code",
   "execution_count": null,
   "metadata": {},
   "outputs": [],
   "source": [
    "# Definition for a binary tree node.\n",
    "# class TreeNode:\n",
    "#     def __init__(self, val=0, left=None, right=None):\n",
    "#         self.val = val\n",
    "#         self.left = left\n",
    "#         self.right = right\n",
    "class Solution:\n",
    "    def mergeTrees(self, t1: TreeNode, t2: TreeNode) -> TreeNode:\n",
    "        # 중복 노드는 값을 합산\n",
    "        # 같은 depth , 같은 자리끼리 더해야한다.\n",
    "        \n",
    "#         if t1 is None and t2 is None:\n",
    "#             return\n",
    "        \n",
    "        if t1 and t2 :\n",
    "            # 새로운 Tree를 구성해야한다.\n",
    "            # 새로운 Tree를 DFS로 구성해나가는 것 \n",
    "            node = TreeNode(t1.val+t2.val)  # 이렇게 해야 합쳐지지 않는 것들이 Null이 생긴다.\n",
    "            \n",
    "            node.left = self.mergeTrees(t1.left,t2.left)\n",
    "            node.right = self.mergeTrees(t1.right,t2.right)\n",
    "            # print(node)\n",
    "            return node\n",
    "        \n",
    "        else : # 둘중 하나라도 None 이라면\n",
    "            return t1 or t2  # 존재하는 Node만 리턴하게 된다. 둘다 없으면 None을 Return\n",
    "        \n",
    "    "
   ]
  },
  {
   "cell_type": "code",
   "execution_count": null,
   "metadata": {},
   "outputs": [],
   "source": []
  }
 ],
 "metadata": {
  "kernelspec": {
   "display_name": "ion",
   "language": "python",
   "name": "ion"
  },
  "language_info": {
   "codemirror_mode": {
    "name": "ipython",
    "version": 3
   },
   "file_extension": ".py",
   "mimetype": "text/x-python",
   "name": "python",
   "nbconvert_exporter": "python",
   "pygments_lexer": "ipython3",
   "version": "3.7.7"
  }
 },
 "nbformat": 4,
 "nbformat_minor": 2
}
