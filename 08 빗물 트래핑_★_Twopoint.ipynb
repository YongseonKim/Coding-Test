{
 "cells": [
  {
   "cell_type": "code",
   "execution_count": 2,
   "metadata": {},
   "outputs": [],
   "source": [
    "# https://leetcode.com/problems/trapping-rain-water/"
   ]
  },
  {
   "cell_type": "code",
   "execution_count": null,
   "metadata": {},
   "outputs": [],
   "source": [
    "'''\n",
    "Two point(left, right) problem\n",
    "가장 높은 막대를 향해서 양쪽 포인트가 움직이는데\n",
    "움직일때 \n",
    "\n",
    "'''\n",
    "\n",
    "class Solution:\n",
    "    def trap(self, height: List[int]) -> int:\n",
    "        if not height : return 0\n",
    "        \n",
    "        volume = 0\n",
    "        left, right = 0, len(height) -1\n",
    "        left_max, right_max = height[left], height[right]\n",
    "        \n",
    "        while left < right :\n",
    "            left_max, right_max = max(height[left],left_max), max(height[right], right_max)\n",
    "            # 막대가 더 작은 쪽의 Point가 움직인다. \n",
    "            # 막대가 큰 곳에서 만나겠지 싶어서\n",
    "            # right_max가 left max보다 크면 최소한 그 사이에 있는 것들은 채워질 것이다.\n",
    "            \n",
    "            if left_max <= right_max :\n",
    "                \n",
    "                volume += left_max - height[left]\n",
    "                print(\"left\",left,left_max,volume)\n",
    "                left+=1\n",
    "            else :\n",
    "                \n",
    "                volume += right_max - height[right]\n",
    "                print(\"right\",right,right_max, volume)\n",
    "                right-=1\n",
    "        return volume\n"
   ]
  },
  {
   "cell_type": "code",
   "execution_count": null,
   "metadata": {},
   "outputs": [],
   "source": []
  },
  {
   "cell_type": "code",
   "execution_count": null,
   "metadata": {},
   "outputs": [],
   "source": []
  }
 ],
 "metadata": {
  "kernelspec": {
   "display_name": "Python 3",
   "language": "python",
   "name": "python3"
  },
  "language_info": {
   "codemirror_mode": {
    "name": "ipython",
    "version": 3
   },
   "file_extension": ".py",
   "mimetype": "text/x-python",
   "name": "python",
   "nbconvert_exporter": "python",
   "pygments_lexer": "ipython3",
   "version": "3.7.7"
  }
 },
 "nbformat": 4,
 "nbformat_minor": 4
}
