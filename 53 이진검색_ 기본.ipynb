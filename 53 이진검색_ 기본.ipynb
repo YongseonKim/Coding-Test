{
 "cells": [
  {
   "cell_type": "code",
   "execution_count": 1,
   "metadata": {},
   "outputs": [],
   "source": [
    "# https://leetcode.com/problems/binary-search/submissions/"
   ]
  },
  {
   "cell_type": "code",
   "execution_count": null,
   "metadata": {},
   "outputs": [],
   "source": [
    "class Solution:\n",
    "    def search(self, nums: List[int], target: int) -> int:\n",
    "        #  정렬된 것 \n",
    "        # 이진 검색, target 찾기\n",
    "        # Index 찾기 문제이니까 리스틀 쪼개면 안된다. \n",
    "        # Index만 바꿔야한다.\n",
    "        # 이전 검색은 Left, right가 필요한가 -- 투포인트로 접근해야한다.\n",
    "        # 재귀 방식으로 접근해야한다.\n",
    "        def binary_search(left, right):\n",
    "            if left>right: \n",
    "                return -1\n",
    "            \n",
    "            mid = (left+right)//2\n",
    "            if nums[mid]==target:\n",
    "                return mid            \n",
    "            elif nums[mid]>target:\n",
    "                return binary_search(left, mid-1)\n",
    "            elif nums[mid]<target:\n",
    "                return binary_search(mid+1,right)\n",
    "            # print(nums, left, mid, right)\n",
    "            \n",
    "        return binary_search(0,len(nums)-1)"
   ]
  },
  {
   "cell_type": "code",
   "execution_count": null,
   "metadata": {},
   "outputs": [],
   "source": [
    "class Solution:\n",
    "    def search(self, nums: List[int], target: int) -> int:\n",
    "        # 반복문 활용\n",
    "        \n",
    "        left, right = 0, len(nums)-1\n",
    "        while left<=right:\n",
    "            mid = (left+right)//2\n",
    "            \n",
    "            if nums[mid]==target:\n",
    "                return mid\n",
    "            elif nums[mid] > target:\n",
    "                right = mid-1\n",
    "            elif nums[mid] < target:\n",
    "                left = mid +1\n",
    "                \n",
    "        return -1"
   ]
  },
  {
   "cell_type": "code",
   "execution_count": null,
   "metadata": {},
   "outputs": [],
   "source": [
    "class Solution:\n",
    "    def search(self, nums: List[int], target: int) -> int:\n",
    "        # bisect 활용\n",
    "        \n",
    "        # 값이 없으면 넣을만한 위치를 알려주는 구나\n",
    "        index = bisect.bisect_left(nums, target)\n",
    "        \n",
    "        if index < len(nums) and nums[index] ==target:\n",
    "            return index\n",
    "        else : \n",
    "            return -1"
   ]
  }
 ],
 "metadata": {
  "kernelspec": {
   "display_name": "ion",
   "language": "python",
   "name": "ion"
  },
  "language_info": {
   "codemirror_mode": {
    "name": "ipython",
    "version": 3
   },
   "file_extension": ".py",
   "mimetype": "text/x-python",
   "name": "python",
   "nbconvert_exporter": "python",
   "pygments_lexer": "ipython3",
   "version": "3.7.7"
  }
 },
 "nbformat": 4,
 "nbformat_minor": 4
}
