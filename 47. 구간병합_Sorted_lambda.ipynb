{
 "cells": [
  {
   "cell_type": "code",
   "execution_count": 1,
   "metadata": {},
   "outputs": [],
   "source": [
    "# https://leetcode.com/problems/merge-intervals/"
   ]
  },
  {
   "cell_type": "code",
   "execution_count": null,
   "metadata": {},
   "outputs": [],
   "source": [
    "class Solution:\n",
    "    def merge(self, intervals: List[List[int]]) -> List[List[int]]:\n",
    "        # print(intervals)\n",
    "        # 구간을 Merge 하는 것 \n",
    "        # sort를 먼저해야한다.\n",
    "        intervals = sorted(intervals, key = lambda x : x[0])\n",
    "        merge = []\n",
    "        for idx in range(len(intervals)):\n",
    "            # merge 된 것의 마지막 1의 값이 현재 0보다 크거나 같다면\n",
    "            if merge and merge[-1][1] >= intervals[idx][0]:\n",
    "                merge[-1][1] = max(merge[-1][1],intervals[idx][1])                \n",
    "            else: \n",
    "                # merge.append(intervals[idx])\n",
    "                merge += intervals[idx],\n",
    "                \n",
    "        return merge"
   ]
  },
  {
   "cell_type": "code",
   "execution_count": null,
   "metadata": {},
   "outputs": [],
   "source": [
    "class Solution:\n",
    "    def merge(self, intervals: List[List[int]]) -> List[List[int]]:\n",
    "        # print(intervals)\n",
    "        # 구간을 Merge 하는 것 \n",
    "        # sort를 먼저해야한다.\n",
    "        intervals = sorted(intervals, key = lambda x : x[0])\n",
    "        merge = []\n",
    "        for idx in range(len(intervals)):\n",
    "            # merge 된 것의 마지막 1의 값이 현재 0보다 크거나 같다면\n",
    "            if merge and merge[-1][1] >= intervals[idx][0]:\n",
    "                merge[-1][1] = max(merge[-1][1],intervals[idx][1])                \n",
    "            else: \n",
    "                merge.append(intervals[idx])\n",
    "                \n",
    "        return merge"
   ]
  },
  {
   "cell_type": "code",
   "execution_count": null,
   "metadata": {},
   "outputs": [],
   "source": [
    "## Rule Based : 실패작\n",
    "\n",
    "class Solution:\n",
    "    def merge(self, intervals: List[List[int]]) -> List[List[int]]:\n",
    "        # print(intervals)\n",
    "        # 구간을 Merge 하는 것 \n",
    "        # sort를 먼저해야한다.\n",
    "        intervals = sorted(intervals, key = lambda x : x[0])\n",
    "        \n",
    "        merge = []\n",
    "        for idx in range(1,len(intervals)):\n",
    "            # if merge ~~~ !!\n",
    "            x,y = intervals[idx-1]\n",
    "            a,b = intervals[idx]\n",
    "            if y>=a : \n",
    "                merge.append([x,b])\n",
    "            else :\n",
    "                merge.append([a,b])\n",
    "        \n",
    "        return merge"
   ]
  },
  {
   "cell_type": "code",
   "execution_count": null,
   "metadata": {},
   "outputs": [],
   "source": []
  }
 ],
 "metadata": {
  "kernelspec": {
   "display_name": "ion",
   "language": "python",
   "name": "ion"
  },
  "language_info": {
   "codemirror_mode": {
    "name": "ipython",
    "version": 3
   },
   "file_extension": ".py",
   "mimetype": "text/x-python",
   "name": "python",
   "nbconvert_exporter": "python",
   "pygments_lexer": "ipython3",
   "version": "3.7.7"
  }
 },
 "nbformat": 4,
 "nbformat_minor": 4
}
