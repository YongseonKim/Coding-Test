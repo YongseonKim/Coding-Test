{
 "cells": [
  {
   "cell_type": "code",
   "execution_count": 2,
   "metadata": {},
   "outputs": [],
   "source": [
    "# https://leetcode.com/problems/longest-palindromic-substring/"
   ]
  },
  {
   "cell_type": "code",
   "execution_count": null,
   "metadata": {},
   "outputs": [],
   "source": [
    "'''\n",
    "반복문 두개쓰는게 아니라\n",
    "Point를 두개써서 한번에 하는것\n",
    "-> 두 포인트가 슬라이등 윈도우 처럼 이동하는 것                                                                                              \n",
    "'''"
   ]
  },
  {
   "cell_type": "code",
   "execution_count": null,
   "metadata": {},
   "outputs": [],
   "source": [
    "class Solution:\n",
    "    def longestPalindrome(self, s: str) -> str:\n",
    "        \n",
    "        # 예외처리\n",
    "        if len(s)<2 or s == s[::-1]:\n",
    "            return s\n",
    "        \n",
    "        # Two point approach : left and right\n",
    "        def chk_pal(left : int, right : int)-> str : \n",
    "            while left>=0 and right <=len(s) and s[left] == s[right-1]: # 좌우 같으면 멈추는 것 \n",
    "                left -=1\n",
    "                right += 1\n",
    "                # print(left,right)\n",
    "            return s[left+1: right -1]\n",
    "        \n",
    "        \n",
    "        result = ''\n",
    "        # left to right \n",
    "        for i in range(len(s)-1):\n",
    "            \n",
    "            # 짝수, 홀수 생각해야한다.\n",
    "            result = max(result, chk_pal(i,i+1), chk_pal(i,i+2),key = len)\n",
    "        return result\n",
    "        \n",
    "        "
   ]
  }
 ],
 "metadata": {
  "kernelspec": {
   "display_name": "Python 3",
   "language": "python",
   "name": "python3"
  },
  "language_info": {
   "codemirror_mode": {
    "name": "ipython",
    "version": 3
   },
   "file_extension": ".py",
   "mimetype": "text/x-python",
   "name": "python",
   "nbconvert_exporter": "python",
   "pygments_lexer": "ipython3",
   "version": "3.7.4"
  }
 },
 "nbformat": 4,
 "nbformat_minor": 4
}
