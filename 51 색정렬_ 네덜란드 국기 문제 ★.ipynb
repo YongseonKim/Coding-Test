{
 "cells": [
  {
   "cell_type": "code",
   "execution_count": 1,
   "metadata": {},
   "outputs": [],
   "source": [
    "# https://leetcode.com/problems/sort-colors/"
   ]
  },
  {
   "cell_type": "code",
   "execution_count": null,
   "metadata": {},
   "outputs": [],
   "source": [
    "# 전통적인 네덜란드 국기 문제 방식으로 풀이\n",
    "# 양쪽에서 포인트를 움직임\n",
    "\n",
    "class Solution:\n",
    "    def sortColors(self, nums: List[int]) -> None:\n",
    "        \"\"\"\n",
    "        Do not return anything, modify nums in-place instead.\n",
    "        \"\"\"\n",
    "        # 네덜란드 국기 문제 \n",
    "        # 전통적인 풀이 방식이 있다\n",
    "       \n",
    "        # 시작 포인트, 값은 red = 0, white 1, blue 2\n",
    "        # \n",
    "        red, white, blue = 0,0, len(nums)\n",
    "        \n",
    "        # white가 앞으로 나아가면서 1보다 작고 red 보다 작으면 red와 바꾸는 방식\n",
    "        \n",
    "        while white < blue : # Runner 기법과 유사하다. white는 blue를 넘을 수 없다.\n",
    "            # print(nums)\n",
    "            # mid 보다 작으면 red와 바꾸고 mid 보다 크면 blue 랑 자리를 바꾼다.\n",
    "            if nums[white] <1 : # 1은 중간값, <1 은 white는 아니고 red라는 이야기\n",
    "                # 왜 순서를 무조건 바꾸는 거지?\n",
    "                if nums[red]>nums[white]: # white가 더 빨라\n",
    "                    nums[red],nums[white] = nums[white],nums[red]\n",
    "                # 이 두개가 같으면 무상관 다르면, \n",
    "                white +=1\n",
    "                red +=1\n",
    "                # print(0,nums)\n",
    "            elif nums[white]>1:\n",
    "                blue-=1\n",
    "                if nums[white]>nums[blue]: # 다 바꾸지 않고 몇개만 바꾸는 것 \n",
    "                    nums[white],nums[blue] = nums[blue], nums[white]\n",
    "                # print(1,nums)\n",
    "            else:\n",
    "                white +=1"
   ]
  },
  {
   "cell_type": "code",
   "execution_count": null,
   "metadata": {},
   "outputs": [],
   "source": [
    "#삽입 정렬로 풀이한 것\n",
    "class Solution:\n",
    "    def sortColors(self, nums: List[int]) -> None:\n",
    "        \"\"\"\n",
    "        Do not return anything, modify nums in-place instead.\n",
    "        \"\"\"\n",
    "        # 삽입 정렬로 가능하겠는데\n",
    "        i = 1\n",
    "        while i<len(nums):\n",
    "            j = i\n",
    "            while j >0 and nums[j-1]> nums[j]:\n",
    "                # print(nums)\n",
    "                nums[j],nums[j-1] = nums[j-1],nums[j]\n",
    "                j -=1\n",
    "            i+=1\n",
    "        print(nums)"
   ]
  }
 ],
 "metadata": {
  "kernelspec": {
   "display_name": "ion",
   "language": "python",
   "name": "ion"
  },
  "language_info": {
   "codemirror_mode": {
    "name": "ipython",
    "version": 3
   },
   "file_extension": ".py",
   "mimetype": "text/x-python",
   "name": "python",
   "nbconvert_exporter": "python",
   "pygments_lexer": "ipython3",
   "version": "3.7.7"
  }
 },
 "nbformat": 4,
 "nbformat_minor": 4
}
