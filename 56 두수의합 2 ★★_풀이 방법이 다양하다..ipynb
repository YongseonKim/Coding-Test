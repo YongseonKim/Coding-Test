{
 "cells": [
  {
   "cell_type": "code",
   "execution_count": 1,
   "metadata": {},
   "outputs": [],
   "source": [
    "# https://leetcode.com/problems/two-sum-ii-input-array-is-sorted/"
   ]
  },
  {
   "cell_type": "code",
   "execution_count": null,
   "metadata": {},
   "outputs": [],
   "source": [
    "class Solution:\n",
    "    def twoSum(self, numbers: List[int], target: int) -> List[int]:\n",
    "        \n",
    "        # 덧셈해서 target이 되는 것\n",
    "        # dictionary로 하면 \n",
    "        \n",
    "        dic = {val:idx for idx,val in enumerate(numbers)}\n",
    "        for i,x in enumerate(numbers):\n",
    "            if abs(target-x) in dic:\n",
    "                return [i+1,dic[abs(target-x)]+1]"
   ]
  },
  {
   "cell_type": "code",
   "execution_count": null,
   "metadata": {},
   "outputs": [],
   "source": [
    "class Solution:\n",
    "    def twoSum(self, numbers: List[int], target: int) -> List[int]:\n",
    "        \n",
    "        # Dictionary 말고 다른 방법은?\n",
    "        # 이진 검색으로 해볼까\n",
    "        # 타임 에러가 발생하는데? -- \n",
    "        # numbers = [2,3,4]\n",
    "        # target = 6\n",
    "        \n",
    "        for idx , x in enumerate(numbers):\n",
    "            val= abs(target - x)\n",
    "            left, right = 0, len(numbers)-1\n",
    "            # print(idx, x, val)\n",
    "            while left<=right:\n",
    "                mid = (left+right)//2\n",
    "                # print(val, left, right, idx,mid, numbers[mid])\n",
    "                if mid != idx and numbers[mid] == val:\n",
    "                    return sorted([idx+1, mid+1])\n",
    "                elif numbers[mid]>=val: #### 반대 이다 ,, 부호가 val이 오른쪽에 있으면 왼쪽을 올려야지\n",
    "                    right = mid-1\n",
    "                elif numbers[mid]<val:\n",
    "                    left = mid+1\n",
    "                # print(111)\n",
    "                    \n",
    "                \n",
    "                "
   ]
  },
  {
   "cell_type": "code",
   "execution_count": null,
   "metadata": {},
   "outputs": [],
   "source": [
    "class Solution:\n",
    "    def twoSum(self, numbers: List[int], target: int) -> List[int]:\n",
    "        \n",
    "        # 투포인터로 풀어보자 : 양쪽의 포인터가 움직여서 가운데로 오는 것\n",
    "        # 정렬되어 있다는 가정이 있으니까 풀이가 가능 한것\n",
    "        \n",
    "        # numbers = [3,24,50,79,88,150,345]\n",
    "        # target = 200\n",
    "        left, right = 0, len(numbers)-1\n",
    "        while left<=right:\n",
    "            # print(numbers[left], numbers[right],numbers[left] + numbers[right],target)\n",
    "            if numbers[left] + numbers[right] < target:\n",
    "                left +=1\n",
    "            elif numbers[left] + numbers[right] > target:\n",
    "                right -=1\n",
    "            else :\n",
    "                return [left+1, right+1]"
   ]
  }
 ],
 "metadata": {
  "kernelspec": {
   "display_name": "ion",
   "language": "python",
   "name": "ion"
  },
  "language_info": {
   "codemirror_mode": {
    "name": "ipython",
    "version": 3
   },
   "file_extension": ".py",
   "mimetype": "text/x-python",
   "name": "python",
   "nbconvert_exporter": "python",
   "pygments_lexer": "ipython3",
   "version": "3.7.7"
  }
 },
 "nbformat": 4,
 "nbformat_minor": 4
}
