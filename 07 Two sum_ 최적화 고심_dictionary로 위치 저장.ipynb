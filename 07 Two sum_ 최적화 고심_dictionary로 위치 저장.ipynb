{
 "cells": [
  {
   "cell_type": "code",
   "execution_count": null,
   "metadata": {},
   "outputs": [],
   "source": [
    "# https://leetcode.com/problems/two-sum/"
   ]
  },
  {
   "cell_type": "code",
   "execution_count": null,
   "metadata": {},
   "outputs": [],
   "source": [
    "\n",
    "# 아래 방법은 브루트포스(Brute-Force) 방식 :\n",
    "# 배열을 2번 반복하면서 모든 조합을 확인해보는 것\n",
    "# 가장 비효율적인 방법 !! \n",
    "# n 제곱 \n",
    "class Solution:\n",
    "    def twoSum(self, nums: List[int], target: int) -> List[int]:\n",
    "        \n",
    "        for i in range(len(nums)):\n",
    "            for j in range(i+1,len(nums)):\n",
    "                if nums[i]+nums[j] == target :\n",
    "                    return [i,j]"
   ]
  },
  {
   "cell_type": "code",
   "execution_count": null,
   "metadata": {},
   "outputs": [],
   "source": [
    "# 다른 방법을 찾아보자\n",
    "# 뺄셈을 찾아보자 \n",
    "\n",
    "class Solution:\n",
    "    def twoSum(self, nums: List[int], target: int) -> List[int]:\n",
    "        # 뺄셈을 찾아보자 \n",
    "        # in을 활용했기 때문에  O n제곱이 맞지만, in이 최적화 되어 있어어 단순 비교보단 빠르다\n",
    "        # index를 추가하는게 포인트다 \n",
    "        for i in range(len(nums)):\n",
    "\n",
    "            if target - nums[i] in nums[i+1:] :\n",
    "                # i+1 뒤에 있는지를 찾아서 index를 불러오고 그 index에 추가해줘야하는 구나\n",
    "                return [i, nums[i+1:].index(target - nums[i])+(i+1)]\n"
   ]
  },
  {
   "cell_type": "code",
   "execution_count": null,
   "metadata": {},
   "outputs": [],
   "source": [
    "# dictionary로 위치를 Indexing 해두는 것이 가장 빠르다.\n",
    "# 자신의 값과 위치를 인덱싱해두는 것 \n",
    "\n",
    "\n",
    "class Solution:\n",
    "    def twoSum(self, nums: List[int], target: int) -> List[int]:\n",
    "        # 뺄셈을 찾아보자 \n",
    "        # in이 아닌 dictionary로 위치를 찾아보자.\n",
    "        dic = {num:i for i,num in enumerate(nums)}\n",
    "\n",
    "        for i in range(len(nums)):\n",
    "            # 위치를 찾았는데 그게 나인지를 확인한다. \n",
    "            if target - nums[i] in dic and dic[target - nums[i]] != i :\n",
    "                return i, dic[target - nums[i]]\n",
    "\n",
    "            \n"
   ]
  },
  {
   "cell_type": "code",
   "execution_count": null,
   "metadata": {},
   "outputs": [],
   "source": []
  }
 ],
 "metadata": {
  "kernelspec": {
   "display_name": "Python 3",
   "language": "python",
   "name": "python3"
  },
  "language_info": {
   "codemirror_mode": {
    "name": "ipython",
    "version": 3
   },
   "file_extension": ".py",
   "mimetype": "text/x-python",
   "name": "python",
   "nbconvert_exporter": "python",
   "pygments_lexer": "ipython3",
   "version": "3.7.7"
  }
 },
 "nbformat": 4,
 "nbformat_minor": 4
}
