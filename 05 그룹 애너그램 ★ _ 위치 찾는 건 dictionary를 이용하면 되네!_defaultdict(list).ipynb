{
 "cells": [
  {
   "cell_type": "code",
   "execution_count": 2,
   "metadata": {},
   "outputs": [],
   "source": [
    "# https://leetcode.com/problems/group-anagrams/submissions/\n",
    "\n",
    "class Solution:\n",
    "    def groupAnagrams(self, strs: List[str]) -> List[List[str]]:\n",
    "        lsts = {}\n",
    "        for st in strs :\n",
    "            lst = list(st)\n",
    "            lst.sort()\n",
    "            #dictionary에 넣기만 하면 되네!!\n",
    "            if ''.join(lst) in lsts :\n",
    "                lsts[''.join(lst)].append(st)\n",
    "            else : lsts[''.join(lst)] = [st]\n",
    "        \n",
    "        return [v for k,v in lsts.items()]"
   ]
  },
  {
   "cell_type": "code",
   "execution_count": null,
   "metadata": {},
   "outputs": [],
   "source": [
    "class Solution:\n",
    "    def groupAnagrams(self, strs: List[str]) -> List[List[str]]:\n",
    "        # 아래처럼 하면 value에 list가 자동으로 생성되고 Keyerror가 발생하지 않는다.\n",
    "        lsts = collections.defaultdict(list)\n",
    "\n",
    "        for st in strs :\n",
    "            lst = list(st)\n",
    "            lst.sort()\n",
    "            #dictionary에 넣기만 하면 되네!!\n",
    "            lsts[''.join(lst)].append(st)\n",
    "##################\n",
    "        \n",
    "        return [v for k,v in lsts.items()]"
   ]
  },
  {
   "cell_type": "code",
   "execution_count": null,
   "metadata": {},
   "outputs": [],
   "source": [
    "class Solution:\n",
    "    def groupAnagrams(self, strs: List[str]) -> List[List[str]]:\n",
    "        # 아래처럼 하면 value에 list가 자동으로 생성되고 Keyerror가 발생하지 않는다.\n",
    "        lsts = collections.defaultdict(list)\n",
    "\n",
    "        for st in strs :\n",
    "            lst = list(st)\n",
    "            lst.sort()\n",
    "            #dictionary에 넣기만 하면 되네!!\n",
    "            lsts[''.join(lst)].append(st)\n",
    "\n",
    "        \n",
    "        return lsts.values() ##################################################"
   ]
  }
 ],
 "metadata": {
  "kernelspec": {
   "display_name": "Python 3",
   "language": "python",
   "name": "python3"
  },
  "language_info": {
   "codemirror_mode": {
    "name": "ipython",
    "version": 3
   },
   "file_extension": ".py",
   "mimetype": "text/x-python",
   "name": "python",
   "nbconvert_exporter": "python",
   "pygments_lexer": "ipython3",
   "version": "3.7.7"
  }
 },
 "nbformat": 4,
 "nbformat_minor": 4
}
