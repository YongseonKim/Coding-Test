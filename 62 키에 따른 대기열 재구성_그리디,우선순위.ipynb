{
 "cells": [
  {
   "cell_type": "code",
   "execution_count": 1,
   "metadata": {},
   "outputs": [],
   "source": [
    "# https://leetcode.com/problems/queue-reconstruction-by-height/"
   ]
  },
  {
   "cell_type": "code",
   "execution_count": null,
   "metadata": {},
   "outputs": [],
   "source": [
    "class Solution:\n",
    "    def reconstructQueue(self, people: List[List[int]]) -> List[List[int]]:\n",
    "        # [h, k] : h 는 키를 의미하고 k는 앞에 h보다 큰 갯수 를 의미\n",
    "        # k를 기준으로 우선순위 큐(heapq) 를 사용하면 해결 가능하겠다.\n",
    "        # 그냥 우선순위 quee로 하면 안되네, 앞에 자기보다 큰 사람이 몇 명인지를 체크 해야한다. \n",
    "        # heap으로 넣어두고 다시 넣는건 좋은데 넣을 때 insert를 써서\n",
    "        # 자기보다 앞에 있는 사람 이 있는지를 확인하고 넣어야겠다.\n",
    "        \n",
    "        # k가 index를 의미하는 구나, 키가 큰 사람 순으로 넣으면 되는건가\n",
    "         \n",
    "        \n",
    "        results =[]\n",
    "        for x,y in people:\n",
    "            # 첫번째 값이 큰 순서대로인 maxheap(최대힙) 형태를 구현하여\n",
    "            # 해결할 수 있다. 큰 값을 기준으로 앞에 붙이질 뒤에 붙이질 정하는 것\n",
    "            # 왜 큰 값을 기준으로 하는가 -- 최소값을 기준으로하면 반도로 결과가 나온다\n",
    "            heapq.heappush(results, [-x,y])            \n",
    "        \n",
    "        results2 = []\n",
    "        for _ in range(len(people)) :          \n",
    "            x,y = heapq.heappop(results)\n",
    "            results2.insert(y, [-x,y])\n",
    "            # print(results2)\n",
    "        return results2\n",
    "    \n",
    "    # "
   ]
  },
  {
   "cell_type": "code",
   "execution_count": 17,
   "metadata": {},
   "outputs": [
    {
     "ename": "IndentationError",
     "evalue": "unexpected indent (<ipython-input-17-f1e3194eca7d>, line 2)",
     "output_type": "error",
     "traceback": [
      "\u001b[1;36m  File \u001b[1;32m\"<ipython-input-17-f1e3194eca7d>\"\u001b[1;36m, line \u001b[1;32m2\u001b[0m\n\u001b[1;33m    -> 틀렸다.\u001b[0m\n\u001b[1;37m    ^\u001b[0m\n\u001b[1;31mIndentationError\u001b[0m\u001b[1;31m:\u001b[0m unexpected indent\n"
     ]
    }
   ],
   "source": [
    "# 삽질1\n",
    "#  -> 틀렸다\n",
    "class Solution:\n",
    "    def reconstructQueue(self, people: List[List[int]]) -> List[List[int]]:\n",
    "        # [h, k] : h 는 키를 의미하고 k는 앞에 h보다 큰 갯수 를 의미\n",
    "        # k를 기준으로 우선순위 큐(heapq) 를 사용하면 해결 가능하겠다.\n",
    "        \n",
    "        results =[]\n",
    "        for x,y in people:\n",
    "            heapq.heappush(results, [y,x])\n",
    "            print(results)\n",
    "            \n",
    "        results2 = []\n",
    "        for _ in range(len(people)) :          \n",
    "            y,x = heapq.heappop(results)\n",
    "            results2.append([x,y])\n",
    "        return results2\n",
    "    "
   ]
  },
  {
   "cell_type": "code",
   "execution_count": 16,
   "metadata": {},
   "outputs": [
    {
     "data": {
      "text/plain": [
       "[[0, 5], [0, 7], [1, 7], [4, 4]]"
      ]
     },
     "execution_count": 16,
     "metadata": {},
     "output_type": "execute_result"
    }
   ],
   "source": [
    "import heapq\n",
    "\n",
    "lst = []\n",
    "heapq.heappush(lst,[0,7])\n",
    "heapq.heappush(lst,[4,4])\n",
    "heapq.heappush(lst,[1,7])\n",
    "heapq.heappush(lst,[0,5])\n",
    "\n",
    "\n",
    "lst"
   ]
  },
  {
   "cell_type": "code",
   "execution_count": 12,
   "metadata": {},
   "outputs": [
    {
     "data": {
      "text/plain": [
       "[4, 4]"
      ]
     },
     "execution_count": 12,
     "metadata": {},
     "output_type": "execute_result"
    }
   ],
   "source": [
    "heapq.heappop(lst)"
   ]
  }
 ],
 "metadata": {
  "kernelspec": {
   "display_name": "ion",
   "language": "python",
   "name": "ion"
  },
  "language_info": {
   "codemirror_mode": {
    "name": "ipython",
    "version": 3
   },
   "file_extension": ".py",
   "mimetype": "text/x-python",
   "name": "python",
   "nbconvert_exporter": "python",
   "pygments_lexer": "ipython3",
   "version": "3.7.7"
  }
 },
 "nbformat": 4,
 "nbformat_minor": 4
}
