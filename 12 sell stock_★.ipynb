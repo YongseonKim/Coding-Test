{
 "cells": [
  {
   "cell_type": "code",
   "execution_count": 1,
   "metadata": {},
   "outputs": [],
   "source": [
    "# https://leetcode.com/problems/best-time-to-buy-and-sell-stock/"
   ]
  },
  {
   "cell_type": "code",
   "execution_count": null,
   "metadata": {},
   "outputs": [],
   "source": [
    "# 실패작 !!\n",
    "class Solution:\n",
    "    def maxProfit(self, prices: List[int]) -> int:\n",
    "        minvalue = -1\n",
    "        minidx = -1\n",
    "        maxvalue = 0\n",
    "        maxidx = -1\n",
    "        \n",
    "        for idx in range(len(prices)):\n",
    "            if minvalue<prices[idx] or minvalue == -1 : \n",
    "                minvalue = prices[idx]\n",
    "                minidx = idx\n",
    "                print(minidx)\n",
    "                continue\n",
    "            if maxvalue<prices[idx]:\n",
    "                maxvalue = prices[idx]\n",
    "                maxidx = idx\n",
    "                \n",
    "        print(minidx, maxidx)\n",
    "                "
   ]
  },
  {
   "cell_type": "code",
   "execution_count": null,
   "metadata": {},
   "outputs": [],
   "source": [
    "# 이건 내 머릿속에서 나올 수 없다.\n",
    "# 외우고 나중에 응용을 잘 해야지\n",
    "\n",
    "class Solution:\n",
    "    def maxProfit(self, prices: List[int]) -> int:\n",
    "        profit = 0\n",
    "        min_price = sys.maxsize\n",
    "        \n",
    "        for price in prices :\n",
    "            min_price = min(min_price, price)\n",
    "            profit = max(profit, price-min_price)\n",
    "            \n",
    "        return profit"
   ]
  }
 ],
 "metadata": {
  "kernelspec": {
   "display_name": "Python 3",
   "language": "python",
   "name": "python3"
  },
  "language_info": {
   "codemirror_mode": {
    "name": "ipython",
    "version": 3
   },
   "file_extension": ".py",
   "mimetype": "text/x-python",
   "name": "python",
   "nbconvert_exporter": "python",
   "pygments_lexer": "ipython3",
   "version": "3.7.7"
  }
 },
 "nbformat": 4,
 "nbformat_minor": 4
}
