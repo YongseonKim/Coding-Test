{
 "cells": [
  {
   "cell_type": "code",
   "execution_count": 1,
   "metadata": {},
   "outputs": [],
   "source": [
    "# https://leetcode.com/problems/gas-station/"
   ]
  },
  {
   "cell_type": "code",
   "execution_count": 4,
   "metadata": {},
   "outputs": [
    {
     "data": {
      "text/plain": [
       "3"
      ]
     },
     "execution_count": 4,
     "metadata": {},
     "output_type": "execute_result"
    }
   ],
   "source": [
    "class Solution:\n",
    "    def canCompleteCircuit(self, gas: List[int], cost: List[int]) -> int:\n",
    "        \n",
    "        # 하나씩 돌아가면서 방문해보자\n",
    "        # gas = [3,3,4]\n",
    "        # cost = [3,4,4]\n",
    "        for idx in range(len(gas)):\n",
    "            # print(idx)\n",
    "            fuel = 0\n",
    "            for kk in range(idx, len(gas)+idx): # 원형이기 때문에 모듈러 연산이 필요하다.\n",
    "                i = kk%len(gas) # 나머지\n",
    "                # 이동 가능한지 체크하기\n",
    "                can_travel = True\n",
    "                if gas[i]+fuel <cost[i]:\n",
    "                    can_travel = False\n",
    "                    break \n",
    "                else :\n",
    "                    fuel += gas[i]-cost[i]\n",
    "                # print(fuel)\n",
    "                \n",
    "            if can_travel:\n",
    "                return idx\n",
    "        return -1"
   ]
  },
  {
   "cell_type": "code",
   "execution_count": null,
   "metadata": {},
   "outputs": [],
   "source": [
    "class Solution:\n",
    "    def canCompleteCircuit(self, gas: List[int], cost: List[int]) -> int:\n",
    "        \n",
    "        # 하나씩 돌아가면서 방문해보자\n",
    "        # gas = [3,3,4]\n",
    "        # cost = [3,4,4]\n",
    "        \n",
    "        if sum(gas)<sum(cost):\n",
    "            return -1\n",
    "        \n",
    "        for idx in range(len(gas)):\n",
    "            # print(idx)\n",
    "            fuel = 0\n",
    "            for kk in range(idx, len(gas)+idx): # 원형이기 때문에 모듈러 연산이 필요하다.\n",
    "                i = kk%len(gas) # 나머지\n",
    "                # 이동 가능한지 체크하기\n",
    "                can_travel = True\n",
    "                if gas[i]+fuel <cost[i]:\n",
    "                    can_travel = False\n",
    "                    break \n",
    "                else :\n",
    "                    fuel += gas[i]-cost[i]\n",
    "                # print(fuel)\n",
    "                \n",
    "            if can_travel:\n",
    "                return idx\n",
    "        return -1"
   ]
  },
  {
   "cell_type": "code",
   "execution_count": null,
   "metadata": {},
   "outputs": [],
   "source": [
    "class Solution:\n",
    "    def canCompleteCircuit(self, gas: List[int], cost: List[int]) -> int:\n",
    "        \n",
    "        # 한번만 방문하는 것\n",
    "        \n",
    "        if sum(gas)<sum(cost):\n",
    "            return -1\n",
    "        \n",
    "        start, fuel = 0,0\n",
    "        # 문제가 생기면 start를 다시 바꾸는 것 \n",
    "        # 답이 유일하다는 조건을 활용한 풀이\n",
    "        for idx in range(len(gas)):\n",
    "            if gas[idx]+fuel <cost[idx]:\n",
    "                start = idx+1 # 성립되지 않은 지점이 있다면 이 앞은 다 안되는 것\n",
    "                fuel = 0\n",
    "            else :\n",
    "                fuel += gas[idx]- cost[idx]\n",
    "        return start"
   ]
  },
  {
   "cell_type": "code",
   "execution_count": null,
   "metadata": {},
   "outputs": [],
   "source": []
  }
 ],
 "metadata": {
  "kernelspec": {
   "display_name": "ion",
   "language": "python",
   "name": "ion"
  },
  "language_info": {
   "codemirror_mode": {
    "name": "ipython",
    "version": 3
   },
   "file_extension": ".py",
   "mimetype": "text/x-python",
   "name": "python",
   "nbconvert_exporter": "python",
   "pygments_lexer": "ipython3",
   "version": "3.7.7"
  }
 },
 "nbformat": 4,
 "nbformat_minor": 4
}
