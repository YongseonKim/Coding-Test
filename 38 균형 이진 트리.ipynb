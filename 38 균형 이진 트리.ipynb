{
 "cells": [
  {
   "cell_type": "code",
   "execution_count": 1,
   "metadata": {},
   "outputs": [],
   "source": [
    "# https://leetcode.com/problems/balanced-binary-tree/"
   ]
  },
  {
   "cell_type": "code",
   "execution_count": null,
   "metadata": {},
   "outputs": [],
   "source": [
    "# Definition for a binary tree node.\n",
    "# class TreeNode:\n",
    "#     def __init__(self, val=0, left=None, right=None):\n",
    "#         self.val = val\n",
    "#         self.left = left\n",
    "#         self.right = right\n",
    "class Solution:\n",
    "    def isBalanced(self, root: TreeNode) -> bool:\n",
    "        # 서브 트리간의 높이 차이가 1 이하인 것을 말한다.\n",
    "        # dfs로 높이를 체크해야겠다.\n",
    "        if root is None : \n",
    "            return True\n",
    "        \n",
    "        def dfs(node):\n",
    "            if node is None : \n",
    "                return 0\n",
    "\n",
    "            left = dfs(node.left)\n",
    "            right = dfs(node.right)\n",
    "\n",
    "            # print(node, left,right)\n",
    "            # 0은 False 이니까 False로 세팅하면 무조건 False가 Return  된다 !\n",
    "            if left==-1 or  right==-1 or abs(left-right)>1 : \n",
    "            # 자식 노드에서 한번이라도 균형이 아니였으면 -1 \n",
    "            # root Node 기준으로 높이 균형만 맞을게 아니라 자식 노드들도 다 맞아야한다.\n",
    "                return -1\n",
    "\n",
    "            return max(left, right)+1\n",
    "        \n",
    "        \n",
    "        return dfs(root)!=-1\n",
    "    "
   ]
  },
  {
   "cell_type": "code",
   "execution_count": null,
   "metadata": {},
   "outputs": [],
   "source": []
  },
  {
   "cell_type": "code",
   "execution_count": null,
   "metadata": {},
   "outputs": [],
   "source": []
  }
 ],
 "metadata": {
  "kernelspec": {
   "display_name": "ion",
   "language": "python",
   "name": "ion"
  },
  "language_info": {
   "codemirror_mode": {
    "name": "ipython",
    "version": 3
   },
   "file_extension": ".py",
   "mimetype": "text/x-python",
   "name": "python",
   "nbconvert_exporter": "python",
   "pygments_lexer": "ipython3",
   "version": "3.7.7"
  }
 },
 "nbformat": 4,
 "nbformat_minor": 2
}
