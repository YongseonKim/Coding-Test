{
 "cells": [
  {
   "cell_type": "code",
   "execution_count": 1,
   "metadata": {},
   "outputs": [],
   "source": [
    "# https://leetcode.com/problems/combination-sum/"
   ]
  },
  {
   "cell_type": "code",
   "execution_count": null,
   "metadata": {},
   "outputs": [],
   "source": [
    "#모범 답안 \n",
    "class Solution:\n",
    "    def combinationSum(self, candidates: List[int], target: int) -> List[List[int]]:\n",
    "        results = []\n",
    "        \n",
    "        def dfs(csum, index, path):\n",
    "            if csum<0 : return\n",
    "            if csum==0 : \n",
    "                results.append(path)\n",
    "                return\n",
    "            \n",
    "            for i in range(index, len(candidates)):\n",
    "                dfs(csum-candidates[i],i,path+[candidates[i]])\n",
    "                \n",
    "            \n",
    "            \n",
    "        dfs(target,0,[])\n",
    "        \n",
    "        return results"
   ]
  },
  {
   "cell_type": "code",
   "execution_count": null,
   "metadata": {},
   "outputs": [],
   "source": [
    "# 성공 !! : 앞에것을 버려도 되는 것이였어 !\n",
    "\n",
    "class Solution:\n",
    "    def combinationSum(self, candidates: List[int], target: int) -> List[List[int]]:\n",
    "        results = []\n",
    "        # candidates = [9,6,8,11,5,4]\n",
    "#         candidates.sort()\n",
    "        # target = 34\n",
    "        def dfs(elements,index):\n",
    "            \n",
    "            if sum(elements)>target :  #sum을 계속 해야하는게 문제가 될 수 있겠네\n",
    "                return \n",
    "            if sum(elements)==target: # and elements not in results : \n",
    "                \n",
    "                results.append(elements[:]) ## 참조가 아니라 Copy를 넣어야한다.\n",
    "                # print(results)\n",
    "                return\n",
    "            \n",
    "            for idx in range(index, len(candidates)):\n",
    "                elements.append(candidates[idx])\n",
    "                dfs(elements,idx)\n",
    "                elements.pop()\n",
    "                \n",
    "            # print(results)         \n",
    "        dfs([],0)\n",
    "            \n",
    "        return results\n",
    "        \n",
    "        "
   ]
  },
  {
   "cell_type": "code",
   "execution_count": null,
   "metadata": {},
   "outputs": [],
   "source": [
    "# 실패작\n",
    "# 구동은 되지만 너무 많은 경우의 수가 생긴다\n",
    "# 경우의 수를 줄여야한다.\n",
    "# 구동은 개뿔 앞에것을 지우지 않았다.\n",
    "\n",
    "class Solution:\n",
    "    def combinationSum(self, candidates: List[int], target: int) -> List[List[int]]:\n",
    "        results = []\n",
    "        candidates = [9,6,8,11,5,4]\n",
    "        candidates.sort()\n",
    "        target = 34\n",
    "        def dfs(elements):\n",
    "            if sum(elements)>target : \n",
    "                return \n",
    "            if sum(elements)==target and elements not in results : \n",
    "                \n",
    "                results.append(elements[:]) ## 참조가 아니라 Copy를 넣어야한다.\n",
    "                print(results)\n",
    "                return\n",
    "            \n",
    "            for x in candidates:\n",
    "                elements.append(x)\n",
    "                dfs(elements)\n",
    "                elements.pop()\n",
    "                \n",
    "            # print(results)         \n",
    "        dfs([])\n",
    "            \n",
    "        return results\n",
    "        \n",
    "        "
   ]
  },
  {
   "cell_type": "code",
   "execution_count": null,
   "metadata": {},
   "outputs": [],
   "source": []
  },
  {
   "cell_type": "code",
   "execution_count": null,
   "metadata": {},
   "outputs": [],
   "source": []
  }
 ],
 "metadata": {
  "kernelspec": {
   "display_name": "ion",
   "language": "python",
   "name": "ion"
  },
  "language_info": {
   "codemirror_mode": {
    "name": "ipython",
    "version": 3
   },
   "file_extension": ".py",
   "mimetype": "text/x-python",
   "name": "python",
   "nbconvert_exporter": "python",
   "pygments_lexer": "ipython3",
   "version": "3.7.7"
  }
 },
 "nbformat": 4,
 "nbformat_minor": 4
}
