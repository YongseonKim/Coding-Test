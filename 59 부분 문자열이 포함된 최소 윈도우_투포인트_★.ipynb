{
 "cells": [
  {
   "cell_type": "code",
   "execution_count": 1,
   "metadata": {},
   "outputs": [],
   "source": [
    "# https://leetcode.com/problems/minimum-window-substring/"
   ]
  },
  {
   "cell_type": "code",
   "execution_count": 15,
   "metadata": {},
   "outputs": [
    {
     "data": {
      "text/plain": [
       "Counter({'A': 1, 'B': 1, 'C': 1, 'D': -1})"
      ]
     },
     "execution_count": 15,
     "metadata": {},
     "output_type": "execute_result"
    }
   ],
   "source": [
    "import collections\n",
    "col = collections.Counter([\"A\",\"B\",\"C\"])\n",
    "col['D']-=1\n",
    "col"
   ]
  },
  {
   "cell_type": "code",
   "execution_count": null,
   "metadata": {},
   "outputs": [],
   "source": [
    "class Solution:\n",
    "    def minWindow(self, s: str, t: str) -> str:\n",
    "        #\n",
    "        # 오른쪽이 기본으로 움직이는데 때가 되면 왼쪽까지 움직이게 하는것\n",
    "        # 때가 된다는 건 t 문자가 모두 포함되어 있다고 했을 때\n",
    "        col = collections.Counter(t)\n",
    "        ttl = len(t)\n",
    "        left = start = end  =0\n",
    "        \n",
    "        for right, char in enumerate(s,1):\n",
    "            #찾는 것의 개수\n",
    "            ttl -= col[char] >0 # 있으면 개수에서 빼는것\n",
    "            col[char] -= 1 ## t에 없어도 그냥 계속 -로 빼주는 구나 계속 마이너스이구나\n",
    "            \n",
    "            if ttl ==0:\n",
    "                # 모든게 포함되어 있으면 왼쪽것을 움직이자\n",
    "                while left < right  and col[s[left]] <0 : # 불필요한 문자가 왼쪽에 있다면 음수이다\n",
    "                    col[s[left]]+=1 #???\n",
    "                    left +=1 # 오른쪽으로 이동\n",
    "                    \n",
    "                \n",
    "                # 멈춘것은 더이상 왼쪽으로 못움직인다는 것\n",
    "                # start, end를업데이트 하자\n",
    "                if not end or right-left <=end-start:\n",
    "                    # 지금 것이 더 짧다면\n",
    "                    start, end = left, right\n",
    "                    \n",
    "                col[s[left]]+=1 \n",
    "                ttl +=1\n",
    "                left +=1\n",
    "        return s[start:end]"
   ]
  },
  {
   "cell_type": "code",
   "execution_count": 7,
   "metadata": {},
   "outputs": [
    {
     "name": "stdout",
     "output_type": "stream",
     "text": [
      "1 a\n",
      "2 b\n",
      "3 c\n"
     ]
    }
   ],
   "source": [
    "#삽질\n",
    "\n",
    "\n",
    "class Solution:\n",
    "    def minWindow(self, s: str, t: str) -> str:\n",
    "        # s,T 를 입력 받아서 O(n)에 T 모든 문자가 포함된 S의 최소 윈도우를 찾아라\n",
    "        # O(n) : \n",
    "        # point가 오른쪽으로 움직이고, left에서 따라오는 방법\n",
    "        # collection\n",
    "        # for 문 하나가 포인트\n",
    "        results = []\n",
    "        for right in range(len(s)):\n",
    "            left =0\n",
    "            while  left<right: # left :가 따라가는 것\n",
    "                dic = collections.Counter(s[left:right])\n",
    "                for x in t:\n",
    "                    if x not in dic: # 없으면\n",
    "                        left+=1           \n",
    "                        break\n",
    "            results.append(s[left:right])\n",
    "                \n",
    "                print(results)"
   ]
  },
  {
   "cell_type": "code",
   "execution_count": null,
   "metadata": {},
   "outputs": [],
   "source": []
  }
 ],
 "metadata": {
  "kernelspec": {
   "display_name": "ion",
   "language": "python",
   "name": "ion"
  },
  "language_info": {
   "codemirror_mode": {
    "name": "ipython",
    "version": 3
   },
   "file_extension": ".py",
   "mimetype": "text/x-python",
   "name": "python",
   "nbconvert_exporter": "python",
   "pygments_lexer": "ipython3",
   "version": "3.7.7"
  }
 },
 "nbformat": 4,
 "nbformat_minor": 4
}
