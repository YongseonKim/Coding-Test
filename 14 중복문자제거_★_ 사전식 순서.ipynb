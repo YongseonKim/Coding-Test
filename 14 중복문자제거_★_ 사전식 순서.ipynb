{
 "cells": [
  {
   "cell_type": "code",
   "execution_count": 1,
   "metadata": {},
   "outputs": [],
   "source": [
    "# https://leetcode.com/problems/remove-duplicate-letters/"
   ]
  },
  {
   "cell_type": "code",
   "execution_count": null,
   "metadata": {},
   "outputs": [],
   "source": [
    "class Solution:\n",
    "    def removeDuplicateLetters(self, s: str) -> str:\n",
    "        stack = []\n",
    "        # 뒤에 또 남아있는지 여부를 체크해야한다.\n",
    "        counter = collections.Counter(s)\n",
    "        \n",
    "        for char in s :\n",
    "            counter[char] -=1\n",
    "\n",
    "            if char in stack : # 이미 넣은 놈은 볼것도 없다.\n",
    "                continue\n",
    "                # 지금 글자가 stack 마지막 보다 앞서있을때까지 \n",
    "            while stack and char < stack[-1] and counter[stack[-1]]>0  : \n",
    "                # stack out of range 여부가 나기 때문에 while 문 가장 앞에 stack이 나와야한다.\n",
    "                print(char, stack.pop()) # stack에 들어가 있는 것이 지금 것보다 뒤에 있는 단어이고\n",
    "                                        # 그것이 뒤에 또 나온다 싶으면 지워버리는 것\n",
    "            \n",
    "            stack.append(char)\n",
    "        \n",
    "        return ''.join(stack)\n",
    "            \n",
    "    #lexicographical order : 사전식 순서\n",
    "    # "
   ]
  },
  {
   "cell_type": "code",
   "execution_count": null,
   "metadata": {},
   "outputs": [],
   "source": []
  },
  {
   "cell_type": "code",
   "execution_count": null,
   "metadata": {},
   "outputs": [],
   "source": []
  },
  {
   "cell_type": "code",
   "execution_count": null,
   "metadata": {},
   "outputs": [],
   "source": []
  }
 ],
 "metadata": {
  "kernelspec": {
   "display_name": "Python 3",
   "language": "python",
   "name": "python3"
  },
  "language_info": {
   "codemirror_mode": {
    "name": "ipython",
    "version": 3
   },
   "file_extension": ".py",
   "mimetype": "text/x-python",
   "name": "python",
   "nbconvert_exporter": "python",
   "pygments_lexer": "ipython3",
   "version": "3.7.7"
  }
 },
 "nbformat": 4,
 "nbformat_minor": 4
}
