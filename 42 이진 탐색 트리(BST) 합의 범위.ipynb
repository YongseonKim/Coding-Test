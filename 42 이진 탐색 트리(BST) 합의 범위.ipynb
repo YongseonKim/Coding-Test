{
 "cells": [
  {
   "cell_type": "code",
   "execution_count": 1,
   "metadata": {},
   "outputs": [],
   "source": [
    "# https://leetcode.com/problems/range-sum-of-bst/"
   ]
  },
  {
   "cell_type": "code",
   "execution_count": null,
   "metadata": {},
   "outputs": [],
   "source": []
  },
  {
   "cell_type": "code",
   "execution_count": null,
   "metadata": {},
   "outputs": [],
   "source": [
    "# 가지치기  -- 가지 않을 방향으로는 보지도 않겠다.\n",
    "\n",
    "\n",
    "# Definition for a binary tree node.\n",
    "# class TreeNode:\n",
    "#     def __init__(self, val=0, left=None, right=None):\n",
    "#         self.val = val\n",
    "#         self.left = left\n",
    "#         self.right = right\n",
    "class Solution:\n",
    "    cum_sum = 0\n",
    "    def rangeSumBST(self, root: TreeNode, L: int, R: int) -> int:\n",
    "        \n",
    "        \n",
    "        def find(node):\n",
    "            if node is None :\n",
    "                return 0\n",
    "            # print(node)\n",
    "            if node.val >=L and node.val <=R:\n",
    "                self.cum_sum += node.val\n",
    "                return find(node.left), find(node.right)            \n",
    "            # 한쪽으로 쏠리면 안해도 되는 방향이 생긴다/\n",
    "            elif node.val < L : \n",
    "                return find(node.right)\n",
    "            elif node.val > R : \n",
    "                return find(node.left)\n",
    "            \n",
    "            \n",
    "        find(root)\n",
    "        \n",
    "        return self.cum_sum\n",
    "                \n",
    "        \n"
   ]
  },
  {
   "cell_type": "code",
   "execution_count": null,
   "metadata": {},
   "outputs": [],
   "source": [
    "# Brutepose 탐색  -- 전수 조사\n",
    "\n",
    "\n",
    "# Definition for a binary tree node.\n",
    "# class TreeNode:\n",
    "#     def __init__(self, val=0, left=None, right=None):\n",
    "#         self.val = val\n",
    "#         self.left = left\n",
    "#         self.right = right\n",
    "class Solution:\n",
    "    cum_sum = 0\n",
    "    def rangeSumBST(self, root: TreeNode, L: int, R: int) -> int:\n",
    "        \n",
    "        \n",
    "        def find(node):\n",
    "            if node is None :\n",
    "                return 0\n",
    "            # print(node)\n",
    "            if node.val >=L and node.val <=R:\n",
    "                self.cum_sum += node.val\n",
    "            \n",
    "            return find(node.left), find(node.right)\n",
    "            \n",
    "            \n",
    "        find(root)\n",
    "        \n",
    "        return self.cum_sum\n",
    "                "
   ]
  },
  {
   "cell_type": "code",
   "execution_count": null,
   "metadata": {},
   "outputs": [],
   "source": []
  }
 ],
 "metadata": {
  "kernelspec": {
   "display_name": "ion",
   "language": "python",
   "name": "ion"
  },
  "language_info": {
   "codemirror_mode": {
    "name": "ipython",
    "version": 3
   },
   "file_extension": ".py",
   "mimetype": "text/x-python",
   "name": "python",
   "nbconvert_exporter": "python",
   "pygments_lexer": "ipython3",
   "version": "3.7.7"
  }
 },
 "nbformat": 4,
 "nbformat_minor": 2
}
