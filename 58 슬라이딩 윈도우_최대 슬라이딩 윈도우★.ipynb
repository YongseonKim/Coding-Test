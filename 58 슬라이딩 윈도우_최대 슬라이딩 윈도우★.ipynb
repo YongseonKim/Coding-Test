{
 "cells": [
  {
   "cell_type": "code",
   "execution_count": 1,
   "metadata": {},
   "outputs": [],
   "source": [
    "# https://leetcode.com/problems/sliding-window-maximum/"
   ]
  },
  {
   "cell_type": "code",
   "execution_count": null,
   "metadata": {},
   "outputs": [],
   "source": [
    "class Solution:\n",
    "    def maxSlidingWindow(self, nums: List[int], k: int) -> List[int]:\n",
    "        # 슬라이딩이 움직이면서 최대값을 Return 하는 것\n",
    "        # 슬라이딩해서 움직이는 건 안되고\n",
    "        # 최대값을 Return 하는 부분은 최적화 해보자\n",
    "        # Left, right가 아니라 Queue 사이즈를 가지고 슬라이딩 시키는 것\n",
    "        \n",
    "        window = collections.deque()\n",
    "        results =[]\n",
    "        cur_max = float('-inf')\n",
    "        \n",
    "        for i, v in enumerate(nums): # 하나씩 넣으면서 시작\n",
    "            window.append(v)\n",
    "            if i<k-1:\n",
    "                continue\n",
    "            \n",
    "            # max값을 저장\n",
    "            if cur_max ==float('-inf') :\n",
    "                cur_max = max(window)\n",
    "            elif cur_max < v:\n",
    "                cur_max = v\n",
    "            \n",
    "            results.append(cur_max)\n",
    "            \n",
    "            # 슬라이딩 시키는 것\n",
    "            if window.popleft() == cur_max :\n",
    "                cur_max = float('-inf') # cur_max 값이 빠져나가면 Reset 하는 것\n",
    "        return results"
   ]
  },
  {
   "cell_type": "code",
   "execution_count": null,
   "metadata": {},
   "outputs": [],
   "source": [
    "# Time Limit 발생 ---- 브루트포스 방법으로는 못푸는 건가보다\n",
    "\n",
    "class Solution:\n",
    "    def maxSlidingWindow(self, nums: List[int], k: int) -> List[int]:\n",
    "        #슬라이딩이 움직이면서 최대값을 Return 하는 것\n",
    "    \n",
    "        if not nums:\n",
    "            return nums\n",
    "\n",
    "        results =[]\n",
    "        for i in range(len(nums)-k+1):\n",
    "            results.append(max(nums[i:i+k]))\n",
    "            \n",
    "        return results"
   ]
  },
  {
   "cell_type": "code",
   "execution_count": null,
   "metadata": {},
   "outputs": [],
   "source": [
    "# Time Limit 발생\n",
    "\n",
    "class Solution:\n",
    "    def maxSlidingWindow(self, nums: List[int], k: int) -> List[int]:\n",
    "        #슬라이딩이 움직이면서 최대값을 Return 하는 것\n",
    "\n",
    "\n",
    "        results =[]\n",
    "        left,right = 0, k\n",
    "        while right <=len(nums):\n",
    "            results.append(max(nums[left:right]))\n",
    "            left+=1\n",
    "            right +=1\n",
    "        return results"
   ]
  },
  {
   "cell_type": "code",
   "execution_count": null,
   "metadata": {},
   "outputs": [],
   "source": [
    "# Time limit이 발생한다.\n",
    "\n",
    "class Solution:\n",
    "    def maxSlidingWindow(self, nums: List[int], k: int) -> List[int]:\n",
    "        #슬라이딩이 움직이면서 최대값을 Return 하는 것\n",
    "        results = []\n",
    "        left, right = 0, k\n",
    "        \n",
    "        def recursive(left,right):\n",
    "            if right>len(nums):\n",
    "                return \n",
    "            results.append(max(nums[left:right]))\n",
    "            recursive(left+1,right+1)\n",
    "            \n",
    "        recursive(left,right)\n",
    "        return results"
   ]
  },
  {
   "cell_type": "code",
   "execution_count": null,
   "metadata": {},
   "outputs": [],
   "source": []
  }
 ],
 "metadata": {
  "kernelspec": {
   "display_name": "ion",
   "language": "python",
   "name": "ion"
  },
  "language_info": {
   "codemirror_mode": {
    "name": "ipython",
    "version": 3
   },
   "file_extension": ".py",
   "mimetype": "text/x-python",
   "name": "python",
   "nbconvert_exporter": "python",
   "pygments_lexer": "ipython3",
   "version": "3.7.7"
  }
 },
 "nbformat": 4,
 "nbformat_minor": 4
}
