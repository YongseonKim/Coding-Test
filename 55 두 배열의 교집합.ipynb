{
 "cells": [
  {
   "cell_type": "code",
   "execution_count": 1,
   "metadata": {},
   "outputs": [],
   "source": [
    "# https://leetcode.com/problems/intersection-of-two-arrays/"
   ]
  },
  {
   "cell_type": "code",
   "execution_count": null,
   "metadata": {},
   "outputs": [],
   "source": [
    "class Solution:\n",
    "    def intersection(self, nums1: List[int], nums2: List[int]) -> List[int]:\n",
    "        # 브루트 포스 , dictonary를 사용하는 방법 외 다른 방법\n",
    "        # 이전 검색으로 찾아보자 -- 정렬이 안되어 있어서 그냥은 안되겠네\n",
    "        # 정렬부터 해보자\n",
    "        \n",
    "        # nums1 = [1,2]\n",
    "        # nums2 = [1,1]\n",
    "        if nums1 and nums2 : \n",
    "            nums = collections.Counter(nums1)\n",
    "            nums2.sort()\n",
    "            results = []\n",
    "\n",
    "            for num in nums.keys():\n",
    "                left, right = 0, len(nums2)\n",
    "                while left<=right:\n",
    "                    mid= (left+right)//2\n",
    "                    # print(num, nums2, mid, left, right)\n",
    "                    if nums2[mid-1]==num :\n",
    "                        results.append(num)\n",
    "                        break\n",
    "                    elif nums2[mid-1]>num:\n",
    "                        right = mid-1\n",
    "                    elif nums2[mid-1]<num:\n",
    "                        left = mid+1\n",
    "                    \n",
    "            return results\n",
    "        else :\n",
    "            return []"
   ]
  },
  {
   "cell_type": "code",
   "execution_count": null,
   "metadata": {},
   "outputs": [],
   "source": [
    "class Solution:\n",
    "    def intersection(self, nums1: List[int], nums2: List[int]) -> List[int]:\n",
    "        # bisect로 변경\n",
    "        \n",
    "        # nums1 = [4,9,5]\n",
    "        # nums2 = [9,4,9,8,4]\n",
    "        if nums1 and nums2 : \n",
    "            nums = collections.Counter(nums1)\n",
    "            nums2.sort()\n",
    "            results = []\n",
    "            for num in nums.keys():\n",
    "                index = bisect.bisect_left(nums2,num)\n",
    "                # print(index, num , nums, nums2, nu)\n",
    "                if index <len(nums2) and nums2[index] == num:\n",
    "                    results.append(num)\n",
    "                    \n",
    "            return results\n",
    "        else :\n",
    "            return []"
   ]
  },
  {
   "cell_type": "code",
   "execution_count": null,
   "metadata": {},
   "outputs": [],
   "source": [
    "class Solution:\n",
    "    def intersection(self, nums1: List[int], nums2: List[int]) -> List[int]:\n",
    "        # bisect로 변경\n",
    "        \n",
    "        # nums1 = [4,9,5]\n",
    "        # nums2 = [9,4,9,8,4]\n",
    "        if nums1 and nums2 : \n",
    "            nums = collections.Counter(nums1)\n",
    "            nums2 =  list(set(nums2))\n",
    "            nums2.sort()\n",
    "            results = []\n",
    "            for num in nums.keys():\n",
    "                index = bisect.bisect_left(nums2,num)\n",
    "                # print(index, num , nums, nums2, nu)\n",
    "                if index <len(nums2) and nums2[index] == num:\n",
    "                    results.append(num)\n",
    "                    \n",
    "            return results\n",
    "        else :\n",
    "            return []"
   ]
  }
 ],
 "metadata": {
  "kernelspec": {
   "display_name": "ion",
   "language": "python",
   "name": "ion"
  },
  "language_info": {
   "codemirror_mode": {
    "name": "ipython",
    "version": 3
   },
   "file_extension": ".py",
   "mimetype": "text/x-python",
   "name": "python",
   "nbconvert_exporter": "python",
   "pygments_lexer": "ipython3",
   "version": "3.7.7"
  }
 },
 "nbformat": 4,
 "nbformat_minor": 4
}
