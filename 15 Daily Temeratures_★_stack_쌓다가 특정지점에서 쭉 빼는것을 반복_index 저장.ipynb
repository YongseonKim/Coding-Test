{
 "cells": [
  {
   "cell_type": "code",
   "execution_count": null,
   "metadata": {},
   "outputs": [],
   "source": [
    "# https://leetcode.com/problems/daily-temperatures/\n",
    "\n",
    "# index 저장\n",
    "\n",
    "# stack은 껍질을 쌓아가다가 껍질을 하나씩 벗겨가는 것 \n",
    "\n"
   ]
  },
  {
   "cell_type": "code",
   "execution_count": null,
   "metadata": {},
   "outputs": [],
   "source": [
    "class Solution:\n",
    "    def dailyTemperatures(self, T: List[int]) -> List[int]:\n",
    "        # 위치 차이를 구하는 것이니 Index를 Stacking 한다.\n",
    "        # 결과값은 언제 저장이 될지 모르니 먼저 만들어두고 값을 업데이트한다.\n",
    "        results = [0]* len(T)\n",
    "        stack = []\n",
    "        for idx, x in enumerate(T):\n",
    "            \n",
    "            while stack and x>T[stack[-1]] : # 값이 커지면\n",
    "                num = stack.pop()# 마지막 index를 불러와서\n",
    "                results[num] =  idx-num\n",
    "                \n",
    "            stack.append(idx)\n",
    "            \n",
    "        # print(results, stack)\n",
    "        return results\n",
    "        \n",
    "        "
   ]
  },
  {
   "cell_type": "code",
   "execution_count": null,
   "metadata": {},
   "outputs": [],
   "source": [
    "class Solution:\n",
    "    def dailyTemperatures(self, T: List[int]) -> List[int]:\n",
    "        answer = [0] * len(T)\n",
    "        stack = []\n",
    "        \n",
    "        for i, x in enumerate(T):\n",
    "            while stack and x > T[stack[-1]]: # 높은 값을 만난다면\n",
    "                num = stack.pop()\n",
    "                answer[num] =  i-num\n",
    "            stack.append(i) # index를 넣어야한다.\n",
    "            \n",
    "        return answer\n",
    "        "
   ]
  },
  {
   "cell_type": "code",
   "execution_count": null,
   "metadata": {},
   "outputs": [],
   "source": []
  }
 ],
 "metadata": {
  "kernelspec": {
   "display_name": "Python 3",
   "language": "python",
   "name": "python3"
  },
  "language_info": {
   "codemirror_mode": {
    "name": "ipython",
    "version": 3
   },
   "file_extension": ".py",
   "mimetype": "text/x-python",
   "name": "python",
   "nbconvert_exporter": "python",
   "pygments_lexer": "ipython3",
   "version": "3.7.7"
  }
 },
 "nbformat": 4,
 "nbformat_minor": 4
}
