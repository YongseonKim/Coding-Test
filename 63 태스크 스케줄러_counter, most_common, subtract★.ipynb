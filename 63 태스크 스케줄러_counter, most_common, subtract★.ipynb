{
 "cells": [
  {
   "cell_type": "code",
   "execution_count": 1,
   "metadata": {},
   "outputs": [],
   "source": [
    "# https://leetcode.com/problems/task-scheduler/"
   ]
  },
  {
   "cell_type": "code",
   "execution_count": null,
   "metadata": {},
   "outputs": [],
   "source": [
    "class Solution:\n",
    "    def leastInterval(self, tasks: List[str], n: int) -> int:\n",
    "        \n",
    "        # most_common : 가장 값이 큰 것 \n",
    "        # subtract : 하나씩 지우는 것\n",
    "        # tasks = [\"A\",\"A\",\"A\",\"A\",\"A\",\"A\",\"B\",\"B\",\"B\",\"B\",\"F\",\"G\"]\n",
    "        counter = collections.Counter(tasks)\n",
    "        result = 0\n",
    "        \n",
    "        # result는 반복할 때마다 계속 커저가고 sub_count 는 Reset이 된다.\n",
    "        while True :\n",
    "            # print(counter)\n",
    "            sub_count =0\n",
    "            # 상위 n+1개를 불러오는 거구나 # 그래야 겹치지 않으니까 \n",
    "            # 이래야 겹치지 않는다.\n",
    "            for task, _ in counter.most_common(n+1): # 가장 많은 것 n+1개\n",
    "                sub_count +=1\n",
    "                result +=1\n",
    "                # print(task)\n",
    "                counter.subtract(task)\n",
    "                counter += collections.Counter() # 0 이하인것 지우는 핵\n",
    "                \n",
    "            if not counter:\n",
    "                break\n",
    "            \n",
    "            # break가 안걸렸을 때 result를 업데이트 하는 것\n",
    "            # n개 \n",
    "            # print(result, n, sub_count)\n",
    "            result += n - sub_count +1\n",
    "        return result\n"
   ]
  },
  {
   "cell_type": "code",
   "execution_count": null,
   "metadata": {},
   "outputs": [],
   "source": []
  },
  {
   "cell_type": "code",
   "execution_count": 11,
   "metadata": {},
   "outputs": [
    {
     "name": "stdout",
     "output_type": "stream",
     "text": [
      "Counter({'b': 1, 'a': 0})\n",
      "Counter({'b': 1})\n"
     ]
    }
   ],
   "source": [
    "import collections\n",
    "\n",
    "a = collections.Counter([\"a\",\"b\"])\n",
    "a.subtract(\"a\")\n",
    "print(a)\n",
    "# 0 이하인 것들을 지워버리는 코드\n",
    "a += collections.Counter() # \n",
    "print(a)"
   ]
  },
  {
   "cell_type": "code",
   "execution_count": 19,
   "metadata": {},
   "outputs": [
    {
     "data": {
      "text/plain": [
       "[('A', 3), ('B', 3)]"
      ]
     },
     "execution_count": 19,
     "metadata": {},
     "output_type": "execute_result"
    }
   ],
   "source": [
    "a = collections.Counter([\"A\",\"A\",\"A\",\"B\",\"B\",\"B\"])\n",
    "a\n",
    "a.most_common(3)"
   ]
  },
  {
   "cell_type": "code",
   "execution_count": null,
   "metadata": {},
   "outputs": [],
   "source": []
  }
 ],
 "metadata": {
  "kernelspec": {
   "display_name": "ion",
   "language": "python",
   "name": "ion"
  },
  "language_info": {
   "codemirror_mode": {
    "name": "ipython",
    "version": 3
   },
   "file_extension": ".py",
   "mimetype": "text/x-python",
   "name": "python",
   "nbconvert_exporter": "python",
   "pygments_lexer": "ipython3",
   "version": "3.7.7"
  }
 },
 "nbformat": 4,
 "nbformat_minor": 4
}
