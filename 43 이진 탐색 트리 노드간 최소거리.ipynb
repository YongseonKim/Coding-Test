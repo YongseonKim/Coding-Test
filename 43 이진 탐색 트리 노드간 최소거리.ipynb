{
 "cells": [
  {
   "cell_type": "code",
   "execution_count": 1,
   "metadata": {},
   "outputs": [],
   "source": [
    "# https://leetcode.com/problems/minimum-distance-between-bst-nodes/"
   ]
  },
  {
   "cell_type": "code",
   "execution_count": null,
   "metadata": {},
   "outputs": [],
   "source": [
    "# Definition for a binary tree node.\n",
    "# class TreeNode:\n",
    "#     def __init__(self, val=0, left=None, right=None):\n",
    "#         self.val = val\n",
    "#         self.left = left\n",
    "#         self.right = right\n",
    "class Solution:\n",
    "    prev = -sys.maxsize # 맨왼쪽 부터 시작\n",
    "    min_val = sys.maxsize  \n",
    "    def minDiffInBST(self, root: TreeNode) -> int:\n",
    "       # 왼쪽과 오른쪽을 비교할 게 아니라\n",
    "       # 왼쪽과 root, 오른쪽과 root를 비교해야한다.\n",
    "       # 순회하면서 이전 노드의 값과 현재 노드의 값을 비교하면된다.\n",
    "       # 왼쪽부터 순회 시키려면 왼쪽을 먼저 보도록 하면된다.\n",
    "        \n",
    "        if root is None :\n",
    "            return 0\n",
    "        \n",
    "        self.minDiffInBST(root.left)\n",
    "        self.min_val = min(self.min_val, root.val-self.prev)\n",
    "        self.prev = root.val\n",
    "        \n",
    "        #왼쪽 하고 나서 오른쪽으로 간다\n",
    "        self.minDiffInBST(root.right)\n",
    "        \n",
    "        return self.min_val\n",
    "        "
   ]
  },
  {
   "cell_type": "code",
   "execution_count": null,
   "metadata": {},
   "outputs": [],
   "source": [
    "# 실패\n",
    "# Definition for a binary tree node.\n",
    "# class TreeNode:\n",
    "#     def __init__(self, val=0, left=None, right=None):\n",
    "#         self.val = val\n",
    "#         self.left = left\n",
    "#         self.right = right\n",
    "class Solution:\n",
    "    min_val = sys.maxsize  \n",
    "    def minDiffInBST(self, root: TreeNode) -> int:\n",
    "        # def find(root):\n",
    "        if root is None :\n",
    "            return sys.maxsize\n",
    "\n",
    "        if root.left:\n",
    "            left = self.minDiffInBST(root.left)\n",
    "        \n",
    "        if root.right:\n",
    "            right= self.minDiffInBST(root.right)\n",
    "        \n",
    "        self.min_val = min(self.min_val, abs(left-right))\n",
    "\n",
    "        return self.min_val\n",
    "    \n",
    "    # find(root)\n",
    "        # return self.min_val"
   ]
  },
  {
   "cell_type": "code",
   "execution_count": null,
   "metadata": {},
   "outputs": [],
   "source": []
  }
 ],
 "metadata": {
  "kernelspec": {
   "display_name": "ion",
   "language": "python",
   "name": "ion"
  },
  "language_info": {
   "codemirror_mode": {
    "name": "ipython",
    "version": 3
   },
   "file_extension": ".py",
   "mimetype": "text/x-python",
   "name": "python",
   "nbconvert_exporter": "python",
   "pygments_lexer": "ipython3",
   "version": "3.7.7"
  }
 },
 "nbformat": 4,
 "nbformat_minor": 2
}
