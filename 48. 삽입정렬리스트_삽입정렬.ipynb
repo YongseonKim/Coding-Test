{
 "cells": [
  {
   "cell_type": "code",
   "execution_count": 1,
   "metadata": {},
   "outputs": [],
   "source": [
    "# https://leetcode.com/problems/insertion-sort-list/"
   ]
  },
  {
   "cell_type": "code",
   "execution_count": 16,
   "metadata": {},
   "outputs": [
    {
     "name": "stdout",
     "output_type": "stream",
     "text": [
      "aa [5, 5, 3, 2, 1]\n",
      "[5, 5, 3, 2, 1]\n",
      "aa [4, 5, 5, 2, 1]\n",
      "aa [4, 4, 5, 2, 1]\n",
      "[4, 4, 5, 2, 1]\n",
      "aa [3, 4, 5, 5, 1]\n",
      "aa [3, 4, 4, 5, 1]\n",
      "aa [3, 3, 4, 5, 1]\n",
      "[3, 3, 4, 5, 1]\n",
      "aa [2, 3, 4, 5, 5]\n",
      "aa [2, 3, 4, 4, 5]\n",
      "aa [2, 3, 3, 4, 5]\n",
      "aa [2, 2, 3, 4, 5]\n",
      "[2, 2, 3, 4, 5]\n",
      "[1, 2, 3, 4, 5]\n"
     ]
    }
   ],
   "source": [
    "#삽입정렬\n",
    "\n",
    "def insertion_sort(lst):\n",
    "    #정렬된것은 보지 않는다.\n",
    "    \n",
    "    for idx in range(1,len(lst)):\n",
    "        key = lst[idx]\n",
    "        idx= idx-1 # 이전값을 가리키고 \n",
    "        # 자기 자리를 찾는 과정 \n",
    "        # 이전값들과 비교해서 Key값을 꽂아주는 것\n",
    "        while (idx)>=0 and lst[idx]>key: # key랑 idx를 비교, 자리를 찾는 과정\n",
    "#             print(idx)\n",
    "            lst[idx+1] = lst[idx] #조건 만족하면 위치 변경\n",
    "            idx= idx-1  # idx는 이전 값으로 \n",
    "            print('aa',lst)\n",
    "        print(lst)\n",
    "        # idx+1에는 이미 다른값이 들어가 있다.\n",
    "        lst[idx+1] = key \n",
    "        \n",
    "    return lst\n",
    "\n",
    "\n",
    "lst = insertion_sort([5,4,3,2,1])\n",
    "print(lst)"
   ]
  },
  {
   "cell_type": "code",
   "execution_count": null,
   "metadata": {},
   "outputs": [],
   "source": [
    "# Definition for singly-linked list.\n",
    "# class ListNode:\n",
    "#     def __init__(self, val=0, next=None):\n",
    "#         self.val = val\n",
    "#         self.next = next\n",
    "class Solution:\n",
    "    def insertionSortList(self, head: ListNode) -> ListNode:\n",
    "        \n",
    "        # 연결된 리스트로 Insertion Sort\n",
    "        # 삽입 정렬은 정렬된것과, 정렬되지 않은 것으로 나눠서 풀이를 해야한다.\n",
    "        # 하나씩 \n",
    "        cur =paranet =  ListNode(None)\n",
    "        while head:\n",
    "            while cur.next and cur.next.val < head.val:\n",
    "                cur = cur.next\n",
    "            # print(11,  head)\n",
    "            # 현재 head 값을 cur_next에 넣고\n",
    "            # head에는 head_next 값을 넣고\n",
    "            # head_next 에는 cur_next 값을 넣는다. \n",
    "            # 지금 cur.next에 있던 값을 head_next로 보내rh\n",
    "            cur.next, head.next, head = head, cur.next, head.next \n",
    "            \n",
    "            # cur.next, head.next, head = head, cur.next, head.next \n",
    "            # print(cur, head)\n",
    "            # 작업이 완료되면 Paranet, 즉 처음으로 옮긴다.\n",
    "            cur = paranet\n",
    "            \n",
    "        return cur.next\n",
    "            \n",
    "        "
   ]
  },
  {
   "cell_type": "code",
   "execution_count": null,
   "metadata": {},
   "outputs": [],
   "source": [
    "# Definition for singly-linked list.\n",
    "# class ListNode:\n",
    "#     def __init__(self, val=0, next=None):\n",
    "#         self.val = val\n",
    "#         self.next = next\n",
    "class Solution:\n",
    "    def insertionSortList(self, head: ListNode) -> ListNode:\n",
    "        \n",
    "        # 연결된 리스트로 Insertion Sort\n",
    "        # 삽입 정렬은 정렬된것과, 정렬되지 않은 것으로 나눠서 풀이를 해야한다.\n",
    "        # 하나씩 \n",
    "        cur =parent =  ListNode(0)\n",
    "        while head:\n",
    "            while cur.next and cur.next.val < head.val:\n",
    "                cur = cur.next\n",
    "            # print(11,  head)\n",
    "            # 현재 head 값을 cur_next에 넣고\n",
    "            # head에는 head_next 값을 넣고\n",
    "            # head_next 에는 cur_next 값을 넣는다. \n",
    "            # 지금 cur.next에 있던 값을 head_next로 보내rh\n",
    "            cur.next, head.next, head = head, cur.next, head.next \n",
    "            \n",
    "            # cur.next, head.next, head = head, cur.next, head.next \n",
    "            # print(cur, head)\n",
    "            # 작업이 완료되면 Paranet, 즉 처음으로 옮긴다.\n",
    "            # \n",
    "            if head and cur.val> head.val:\n",
    "                cur = parent\n",
    "            \n",
    "        return parent.next \n",
    "        "
   ]
  },
  {
   "cell_type": "code",
   "execution_count": null,
   "metadata": {},
   "outputs": [],
   "source": []
  }
 ],
 "metadata": {
  "kernelspec": {
   "display_name": "ion",
   "language": "python",
   "name": "ion"
  },
  "language_info": {
   "codemirror_mode": {
    "name": "ipython",
    "version": 3
   },
   "file_extension": ".py",
   "mimetype": "text/x-python",
   "name": "python",
   "nbconvert_exporter": "python",
   "pygments_lexer": "ipython3",
   "version": "3.7.7"
  }
 },
 "nbformat": 4,
 "nbformat_minor": 4
}
