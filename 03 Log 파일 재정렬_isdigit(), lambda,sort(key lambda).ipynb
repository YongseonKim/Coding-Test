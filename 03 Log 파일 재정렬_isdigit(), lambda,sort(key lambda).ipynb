{
 "cells": [
  {
   "cell_type": "code",
   "execution_count": 13,
   "metadata": {},
   "outputs": [
    {
     "name": "stdout",
     "output_type": "stream",
     "text": [
      "['let3 art zero']\n"
     ]
    }
   ],
   "source": [
    "# list.sort는 inplace sort 이다!!! Return 값이 없다.\n",
    "\n",
    "\n",
    "logs = ['let3 art zero']\n",
    "logs.sort()#(key =  lambda x : (x.split()[1:],x.split()[0]))\n",
    "print(logs)"
   ]
  },
  {
   "cell_type": "code",
   "execution_count": null,
   "metadata": {},
   "outputs": [],
   "source": [
    "class Solution:\n",
    "    def reorderLogFiles(self, logs: List[str]) -> List[str]:\n",
    "                \n",
    "        letters, digits = [], []\n",
    "        logs = deque(logs)\n",
    "        while logs:\n",
    "            val = logs.popleft()\n",
    "            # 두번째가 숫자인지 확인 : isdigit\n",
    "            if val.split()[1].isdigit() : digits.append(val)\n",
    "            else : letters.append(val)\n",
    "\n",
    "        \n",
    "        # letters 순서는 문자가 동일하면 식별자 순\n",
    "        letters.sort(key = lambda x: (x.split()[1:],x.split()[0]))\n",
    "        return letters + digits\n",
    "        "
   ]
  }
 ],
 "metadata": {
  "kernelspec": {
   "display_name": "Python 3",
   "language": "python",
   "name": "python3"
  },
  "language_info": {
   "codemirror_mode": {
    "name": "ipython",
    "version": 3
   },
   "file_extension": ".py",
   "mimetype": "text/x-python",
   "name": "python",
   "nbconvert_exporter": "python",
   "pygments_lexer": "ipython3",
   "version": "3.7.7"
  }
 },
 "nbformat": 4,
 "nbformat_minor": 4
}
