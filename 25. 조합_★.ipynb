{
 "cells": [
  {
   "cell_type": "code",
   "execution_count": 1,
   "metadata": {},
   "outputs": [],
   "source": [
    "# https://leetcode.com/problems/combinations"
   ]
  },
  {
   "cell_type": "code",
   "execution_count": null,
   "metadata": {},
   "outputs": [],
   "source": [
    "class Solution:\n",
    "    def combine(self, n: int, k: int) -> List[List[int]]:\n",
    "#         if n==k : return [x for x in range(n)]## 너무 느리다.\n",
    "        results =[]\n",
    "        \n",
    "        def dfs(elements,start,k):\n",
    "            if k==0 : \n",
    "                results.append(elements[:]) # k=0이면 elements Copy\n",
    "            \n",
    "            # elements를 만들어가는데 , start 기준으로 만들어간다.\n",
    "            # 어떤것이던지 이 안에서 경우의수가 만들어지는 것\n",
    "            for i in range(start,n+1): # Point가 두개인 컨셉인가.\n",
    "                elements.append(i)\n",
    "                dfs(elements,i+1,k-1) ## 사실상 for 문인가 ,k-1 : 담을 수 있는걸 빼는것\n",
    "                elements.pop() #이번에 넣은건 제외\n",
    "                \n",
    "            \n",
    "            \n",
    "        dfs([],1,k)\n",
    "        return results\n",
    "        \n",
    "        "
   ]
  },
  {
   "cell_type": "code",
   "execution_count": null,
   "metadata": {},
   "outputs": [],
   "source": [
    "## 실패작\n",
    "\n",
    "class Solution:\n",
    "    def combine(self, n: int, k: int) -> List[List[int]]:\n",
    "        elements = [x for x in range(n)]\n",
    "        if n==k : return elements\n",
    "        \n",
    "        results = []\n",
    "\n",
    "        def dfs(elem,path):\n",
    "            print(path)\n",
    "            if len(elem)==0 :\n",
    "                results.append(path)\n",
    "                \n",
    "            for i in range(len(elem)):\n",
    "                path.append(elem[i])\n",
    "                dfs(elem[i+1:],path)\n",
    "        \n",
    "            \n",
    "        for i in range(len(elements)):\n",
    "            path = [elements[i]]\n",
    "            dfs(elements[i+1:],path)\n",
    "        \n",
    "        \n",
    "        \n",
    "        \n",
    "        "
   ]
  },
  {
   "cell_type": "code",
   "execution_count": null,
   "metadata": {},
   "outputs": [],
   "source": []
  },
  {
   "cell_type": "code",
   "execution_count": null,
   "metadata": {},
   "outputs": [],
   "source": []
  }
 ],
 "metadata": {
  "kernelspec": {
   "display_name": "Python 3",
   "language": "python",
   "name": "python3"
  },
  "language_info": {
   "codemirror_mode": {
    "name": "ipython",
    "version": 3
   },
   "file_extension": ".py",
   "mimetype": "text/x-python",
   "name": "python",
   "nbconvert_exporter": "python",
   "pygments_lexer": "ipython3",
   "version": "3.7.7"
  }
 },
 "nbformat": 4,
 "nbformat_minor": 4
}
