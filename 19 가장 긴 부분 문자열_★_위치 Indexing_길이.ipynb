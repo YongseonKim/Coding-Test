{
 "cells": [
  {
   "cell_type": "code",
   "execution_count": 1,
   "metadata": {},
   "outputs": [],
   "source": [
    "# https://leetcode.com/problems/longest-substring-without-repeating-characters/"
   ]
  },
  {
   "cell_type": "code",
   "execution_count": null,
   "metadata": {},
   "outputs": [],
   "source": [
    "## 실패작\n",
    "\n",
    "class Solution:\n",
    "    def lengthOfLongestSubstring(self, s: str) -> int:\n",
    "        # 슬라이딩 윈도우 + Two point\n",
    "        max_val =0\n",
    "        s = \"au\"\n",
    "        def finding(idx):\n",
    "            char = s[idx]\n",
    "            left = idx -1\n",
    "            right = idx +1\n",
    "            print(idx, char)\n",
    "            while left>=0 and right < len(s):\n",
    "                if s[left] in char : \n",
    "                    left=-1\n",
    "                    pass\n",
    "                else : \n",
    "                    print(char,s[left])\n",
    "                    char = s[left]+char\n",
    "                \n",
    "                if s[right] in char : \n",
    "                    right=len(s)+1\n",
    "                    pass\n",
    "                else : \n",
    "                    print(char,s[right])\n",
    "                    char += s[right]\n",
    "                left -=1    \n",
    "                right +=1\n",
    "            print(idx, char)\n",
    "            return len(char)\n",
    "\n",
    "        \n",
    "        for idx in range(len(s)):\n",
    "            max_val = max(max_val, finding(idx))\n",
    "            \n",
    "        return max_val"
   ]
  },
  {
   "cell_type": "code",
   "execution_count": null,
   "metadata": {},
   "outputs": [],
   "source": [
    "##"
   ]
  },
  {
   "cell_type": "code",
   "execution_count": null,
   "metadata": {},
   "outputs": [],
   "source": [
    "'''\n",
    "슬라이딩 윈도우  + 투 포인트+ 위치 Indexing\n",
    "- 길이를 구하는 문제는 위치를 Indexing 해서 풀어야한다!!\n",
    "\n",
    "'''\n",
    "\n",
    "class Solution:\n",
    "    def lengthOfLongestSubstring(self, s: str) -> int:\n",
    "        # 힌트는 Indexing이다. 거리를 구하는건 다 위치를 Indexing 해야한다.\n",
    "        # 이후에 Two point로 접근해야한다. 왼쪽 포인트는 천천히\n",
    "        # 오른쪽은 빠르게 치고 나가는 것 끝까지 가보는 것 \n",
    "        # 있는 단어가 나오면 오른쪽에서 왼쪽까지의 거리를 측정하는것\n",
    "        # 그리고 왼쪽 한칸 이동, 오른쪽 다시 직진 \n",
    "        # 왼쪽 한칸 이동은 start로 표현\n",
    "        # 오른쪽 포인트가 for문으로 이동하면서 start 포인트를 바꿔가는 것\n",
    "        \n",
    "        # s = 'dvdf'\n",
    "        cur = {}\n",
    "        max_val =start = 0  #매번 시작점이 업데이트가 된다. # start는 왼쪽 포인터가 된다.\n",
    "        for idx, char in enumerate(s): # 이게 오른쪽 포인트이네\n",
    "            # print(idx,char)\n",
    "            if char in cur and start <= cur[char]:  \n",
    "                #이전에 나왔다고 지우면 안된다. 현재에 포함되어 있지 않으면 된다.\n",
    "                # print(char, cur)                \n",
    "                # 이미 중복으로 나왔던 위치 +1에서 시작!!!! \n",
    "                start = cur[char]+1          #이게 왼쪽 포인트   \n",
    "                # cur={} # 다시 쌓아야하는 구나 # 이러면 틈이 생긴다\n",
    "                \n",
    "            else : \n",
    "                # 거리 올리기 \n",
    "                # 위치정보를 업데이트해가면서 해야한다.\n",
    "                max_val = max(max_val, idx-start+1)       \n",
    "            # print(cur)\n",
    "            cur[char] = idx\n",
    "        # print(cur)\n",
    "        return max_val\n",
    "        \n",
    "        \n",
    "        \n",
    "        \n"
   ]
  },
  {
   "cell_type": "code",
   "execution_count": null,
   "metadata": {},
   "outputs": [],
   "source": []
  }
 ],
 "metadata": {
  "kernelspec": {
   "display_name": "Python 3",
   "language": "python",
   "name": "python3"
  },
  "language_info": {
   "codemirror_mode": {
    "name": "ipython",
    "version": 3
   },
   "file_extension": ".py",
   "mimetype": "text/x-python",
   "name": "python",
   "nbconvert_exporter": "python",
   "pygments_lexer": "ipython3",
   "version": "3.7.4"
  }
 },
 "nbformat": 4,
 "nbformat_minor": 2
}
