{
 "cells": [
  {
   "cell_type": "code",
   "execution_count": 2,
   "metadata": {},
   "outputs": [],
   "source": [
    "# https://leetcode.com/problems/search-in-rotated-sorted-array/"
   ]
  },
  {
   "cell_type": "code",
   "execution_count": null,
   "metadata": {},
   "outputs": [],
   "source": [
    "class Solution:\n",
    "    def search(self, nums: List[int], target: int) -> int:\n",
    "        # Pivot을 찾아야하는데\n",
    "        # pivot은 min 값이 되겠지\n",
    "        \n",
    "        pivot = min(nums)\n",
    "        cycle =  nums.index(pivot)\n",
    "        # cycle 만큼 돌아가 있는 것\n",
    "        \n",
    "        sorted_nums = sorted(nums)\n",
    "        print(sorted_nums)\n",
    "        \n",
    "        left, right = 0, len(nums)-1\n",
    "        while left<= right:\n",
    "            mid = (left+right)//2\n",
    "            print(mid, left, right)\n",
    "            if sorted_nums[mid]==target:\n",
    "                print(mid)\n",
    "                return (mid+cycle)%len(nums)\n",
    "            elif sorted_nums[mid]>target:\n",
    "                right = mid-1\n",
    "            elif sorted_nums[mid]<target:\n",
    "                left = mid +1\n",
    "        return -1"
   ]
  },
  {
   "cell_type": "code",
   "execution_count": null,
   "metadata": {},
   "outputs": [],
   "source": []
  }
 ],
 "metadata": {
  "kernelspec": {
   "display_name": "ion",
   "language": "python",
   "name": "ion"
  },
  "language_info": {
   "codemirror_mode": {
    "name": "ipython",
    "version": 3
   },
   "file_extension": ".py",
   "mimetype": "text/x-python",
   "name": "python",
   "nbconvert_exporter": "python",
   "pygments_lexer": "ipython3",
   "version": "3.7.7"
  }
 },
 "nbformat": 4,
 "nbformat_minor": 4
}
