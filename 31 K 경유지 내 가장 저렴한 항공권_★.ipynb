{
 "cells": [
  {
   "cell_type": "code",
   "execution_count": null,
   "metadata": {},
   "outputs": [],
   "source": [
    "# https://leetcode.com/problems/cheapest-flights-within-k-stops/submissions/"
   ]
  },
  {
   "cell_type": "code",
   "execution_count": null,
   "metadata": {},
   "outputs": [],
   "source": [
    "class Solution:\n",
    "    def findCheapestPrice(self, n: int, flights: List[List[int]], src: int, dst: int, K: int) -> int:\n",
    "        graph = collections.defaultdict(list)\n",
    "        for start,end,price in flights:\n",
    "            graph[start].append((end,price))\n",
    "            \n",
    "        dist = collections.defaultdict(list)\n",
    "        \n",
    "        Q= [(0,src,K)] \n",
    "        \n",
    "        # 횟수를 줄여가는 것도 방법이다. !!\n",
    "        \n",
    "        while Q :\n",
    "            # print(Q)\n",
    "            price, node,k = heapq.heappop(Q)\n",
    "            if node == dst : return price\n",
    "            # if node not in dist: ## 방문을 하더라도 다시 방문할 수 있다. 경로에 따라서 \n",
    "            dist[node] = price\n",
    "            if k>=0 : # k가 0보다 작으면 더이상 하지 말고 스탑\n",
    "                for e,p in graph[node]:\n",
    "                    heapq.heappush(Q,(price+p,e,k-1))\n",
    "                        \n",
    "                    \n",
    "        return -1\n",
    "        \n",
    "        \n",
    "        "
   ]
  },
  {
   "cell_type": "code",
   "execution_count": null,
   "metadata": {},
   "outputs": [],
   "source": []
  }
 ],
 "metadata": {
  "kernelspec": {
   "display_name": "ion",
   "language": "python",
   "name": "ion"
  },
  "language_info": {
   "codemirror_mode": {
    "name": "ipython",
    "version": 3
   },
   "file_extension": ".py",
   "mimetype": "text/x-python",
   "name": "python",
   "nbconvert_exporter": "python",
   "pygments_lexer": "ipython3",
   "version": "3.7.7"
  }
 },
 "nbformat": 4,
 "nbformat_minor": 2
}
