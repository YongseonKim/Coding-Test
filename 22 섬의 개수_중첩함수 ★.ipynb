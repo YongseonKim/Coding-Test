{
 "cells": [
  {
   "cell_type": "code",
   "execution_count": 1,
   "metadata": {},
   "outputs": [],
   "source": [
    "# https://leetcode.com/problems/number-of-islands/"
   ]
  },
  {
   "cell_type": "code",
   "execution_count": null,
   "metadata": {},
   "outputs": [],
   "source": [
    "class Solution:\n",
    "    \n",
    "\n",
    "    \n",
    "    \n",
    "    def numIslands(self, grid: List[List[str]]) -> int:\n",
    "        \n",
    "        \n",
    "        # 스피드를 올릴 수 있다 !!\n",
    "        if not grid:\n",
    "            return 0\n",
    "        \n",
    "        \n",
    "        \n",
    "        # 중첩함수를 쓰게되면 grid를 공유 할 수 있다.\n",
    "        def dfs(i,j):\n",
    "            \n",
    "            if i<0 or i>=len(grid) or \\\n",
    "               j<0 or j>=len(grid[0]) or\\\n",
    "               grid[i][j] =='0' :\n",
    "                return \n",
    "            \n",
    "            #되돌아오는걸 방지\n",
    "            grid[i][j]= '0'              \n",
    "            \n",
    "            # 동서남북 확인\n",
    "            dfs(i+1,j)\n",
    "            dfs(i-1,j)\n",
    "            dfs(i,j+1)\n",
    "            dfs(i,j-1)\n",
    "                      \n",
    "            return \n",
    "            \n",
    "        cnt = 0\n",
    "        # 미리 len을 해두면 시간을 줄일 수 있다.\n",
    "        m, n = len(grid), len(grid[0])\n",
    "        \n",
    "        for i in range(m):\n",
    "            for j in range(n):\n",
    "                if grid[i][j]=='1':\n",
    "                    dfs(i,j)\n",
    "                    cnt+=1\n",
    "        return cnt"
   ]
  },
  {
   "cell_type": "code",
   "execution_count": null,
   "metadata": {},
   "outputs": [],
   "source": []
  },
  {
   "cell_type": "code",
   "execution_count": null,
   "metadata": {},
   "outputs": [],
   "source": []
  },
  {
   "cell_type": "code",
   "execution_count": null,
   "metadata": {},
   "outputs": [],
   "source": []
  }
 ],
 "metadata": {
  "kernelspec": {
   "display_name": "Python 3",
   "language": "python",
   "name": "python3"
  },
  "language_info": {
   "codemirror_mode": {
    "name": "ipython",
    "version": 3
   },
   "file_extension": ".py",
   "mimetype": "text/x-python",
   "name": "python",
   "nbconvert_exporter": "python",
   "pygments_lexer": "ipython3",
   "version": "3.7.7"
  }
 },
 "nbformat": 4,
 "nbformat_minor": 4
}
