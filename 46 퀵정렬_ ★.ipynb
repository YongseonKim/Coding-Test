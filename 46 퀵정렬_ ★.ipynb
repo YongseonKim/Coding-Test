{
 "cells": [
  {
   "cell_type": "code",
   "execution_count": 16,
   "metadata": {},
   "outputs": [],
   "source": [
    "lst = [2,8,7,1,3,5,6,4]"
   ]
  },
  {
   "cell_type": "code",
   "execution_count": 18,
   "metadata": {},
   "outputs": [
    {
     "name": "stdout",
     "output_type": "stream",
     "text": [
      "[1, 2, 3, 4, 5, 5, 6, 7, 9]\n"
     ]
    }
   ],
   "source": [
    "def quick_sorted(arr):\n",
    "    if len(arr)<=1:\n",
    "        return arr\n",
    "    # pivot을 맨 우측에 있는걸로\n",
    "    left,mid, right=[],[],[]\n",
    "    pivot = arr[len(arr)-1]\n",
    "    for i in range(len(arr)-1):\n",
    "        if arr[i]<pivot:\n",
    "            left.append(arr[i])\n",
    "        elif arr[i]>pivot :\n",
    "            right.append(arr[i])\n",
    "        elif arr[i]==pivot:\n",
    "            mid.append(arr[i])\n",
    "            \n",
    "    mid.append(pivot)        \n",
    "    return quick_sorted(left)+mid+quick_sorted(right)\n",
    "    \n",
    "    \n",
    "arr = [3, 5, 1, 2, 9, 6, 4, 7, 5]\n",
    "print(quick_sorted(arr))\n"
   ]
  },
  {
   "cell_type": "code",
   "execution_count": 9,
   "metadata": {},
   "outputs": [
    {
     "name": "stdout",
     "output_type": "stream",
     "text": [
      "[1, 2, 3, 4, 5, 5, 6, 7, 9]\n"
     ]
    }
   ],
   "source": [
    "def quick_sorted(arr):\n",
    "    if len(arr) > 1:\n",
    "        pivot = arr[len(arr)-1]\n",
    "        left, mid, right = [], [], []\n",
    "        for i in range(len(arr)-1):\n",
    "            if arr[i] < pivot:\n",
    "                left.append(arr[i])\n",
    "            elif arr[i] > pivot:\n",
    "                right.append(arr[i])\n",
    "            else:\n",
    "                mid.append(arr[i])\n",
    "        mid.append(pivot)\n",
    "        return quick_sorted(left) + mid + quick_sorted(right)\n",
    "    else:\n",
    "        return arr\n",
    "        \n",
    "arr = [3, 5, 1, 2, 9, 6, 4, 7, 5]\n",
    "print(quick_sorted(arr))\n"
   ]
  },
  {
   "cell_type": "code",
   "execution_count": 8,
   "metadata": {},
   "outputs": [
    {
     "ename": "RecursionError",
     "evalue": "maximum recursion depth exceeded in comparison",
     "output_type": "error",
     "traceback": [
      "\u001b[1;31m---------------------------------------------------------------------------\u001b[0m",
      "\u001b[1;31mRecursionError\u001b[0m                            Traceback (most recent call last)",
      "\u001b[1;32m<ipython-input-8-a72bbf1be583>\u001b[0m in \u001b[0;36m<module>\u001b[1;34m\u001b[0m\n\u001b[0;32m     19\u001b[0m \u001b[1;33m\u001b[0m\u001b[0m\n\u001b[0;32m     20\u001b[0m     \u001b[1;32mreturn\u001b[0m \u001b[0mlst\u001b[0m\u001b[1;33m\u001b[0m\u001b[1;33m\u001b[0m\u001b[0m\n\u001b[1;32m---> 21\u001b[1;33m \u001b[0mquicksort\u001b[0m\u001b[1;33m(\u001b[0m\u001b[0mlst\u001b[0m\u001b[1;33m,\u001b[0m\u001b[1;36m0\u001b[0m\u001b[1;33m,\u001b[0m\u001b[0mlen\u001b[0m\u001b[1;33m(\u001b[0m\u001b[0mlst\u001b[0m\u001b[1;33m)\u001b[0m\u001b[1;33m-\u001b[0m\u001b[1;36m1\u001b[0m\u001b[1;33m)\u001b[0m\u001b[1;33m\u001b[0m\u001b[1;33m\u001b[0m\u001b[0m\n\u001b[0m",
      "\u001b[1;32m<ipython-input-8-a72bbf1be583>\u001b[0m in \u001b[0;36mquicksort\u001b[1;34m(lst, lo, hi)\u001b[0m\n\u001b[0;32m     15\u001b[0m     \u001b[0mpivot\u001b[0m \u001b[1;33m=\u001b[0m \u001b[0mpartition\u001b[0m\u001b[1;33m(\u001b[0m\u001b[0mlo\u001b[0m\u001b[1;33m,\u001b[0m\u001b[0mhi\u001b[0m\u001b[1;33m)\u001b[0m\u001b[1;33m\u001b[0m\u001b[1;33m\u001b[0m\u001b[0m\n\u001b[0;32m     16\u001b[0m \u001b[1;31m#     print(pivot)\u001b[0m\u001b[1;33m\u001b[0m\u001b[1;33m\u001b[0m\u001b[1;33m\u001b[0m\u001b[0m\n\u001b[1;32m---> 17\u001b[1;33m     \u001b[0mquicksort\u001b[0m\u001b[1;33m(\u001b[0m\u001b[0mlst\u001b[0m\u001b[1;33m,\u001b[0m\u001b[0mlo\u001b[0m\u001b[1;33m,\u001b[0m\u001b[0mpivot\u001b[0m\u001b[1;33m-\u001b[0m\u001b[1;36m1\u001b[0m\u001b[1;33m)\u001b[0m\u001b[1;33m\u001b[0m\u001b[1;33m\u001b[0m\u001b[0m\n\u001b[0m\u001b[0;32m     18\u001b[0m     \u001b[0mquicksort\u001b[0m\u001b[1;33m(\u001b[0m\u001b[0mlst\u001b[0m\u001b[1;33m,\u001b[0m\u001b[0mpivot\u001b[0m\u001b[1;33m+\u001b[0m\u001b[1;36m1\u001b[0m\u001b[1;33m,\u001b[0m\u001b[0mhi\u001b[0m\u001b[1;33m)\u001b[0m\u001b[1;33m\u001b[0m\u001b[1;33m\u001b[0m\u001b[0m\n\u001b[0;32m     19\u001b[0m \u001b[1;33m\u001b[0m\u001b[0m\n",
      "... last 1 frames repeated, from the frame below ...\n",
      "\u001b[1;32m<ipython-input-8-a72bbf1be583>\u001b[0m in \u001b[0;36mquicksort\u001b[1;34m(lst, lo, hi)\u001b[0m\n\u001b[0;32m     15\u001b[0m     \u001b[0mpivot\u001b[0m \u001b[1;33m=\u001b[0m \u001b[0mpartition\u001b[0m\u001b[1;33m(\u001b[0m\u001b[0mlo\u001b[0m\u001b[1;33m,\u001b[0m\u001b[0mhi\u001b[0m\u001b[1;33m)\u001b[0m\u001b[1;33m\u001b[0m\u001b[1;33m\u001b[0m\u001b[0m\n\u001b[0;32m     16\u001b[0m \u001b[1;31m#     print(pivot)\u001b[0m\u001b[1;33m\u001b[0m\u001b[1;33m\u001b[0m\u001b[1;33m\u001b[0m\u001b[0m\n\u001b[1;32m---> 17\u001b[1;33m     \u001b[0mquicksort\u001b[0m\u001b[1;33m(\u001b[0m\u001b[0mlst\u001b[0m\u001b[1;33m,\u001b[0m\u001b[0mlo\u001b[0m\u001b[1;33m,\u001b[0m\u001b[0mpivot\u001b[0m\u001b[1;33m-\u001b[0m\u001b[1;36m1\u001b[0m\u001b[1;33m)\u001b[0m\u001b[1;33m\u001b[0m\u001b[1;33m\u001b[0m\u001b[0m\n\u001b[0m\u001b[0;32m     18\u001b[0m     \u001b[0mquicksort\u001b[0m\u001b[1;33m(\u001b[0m\u001b[0mlst\u001b[0m\u001b[1;33m,\u001b[0m\u001b[0mpivot\u001b[0m\u001b[1;33m+\u001b[0m\u001b[1;36m1\u001b[0m\u001b[1;33m,\u001b[0m\u001b[0mhi\u001b[0m\u001b[1;33m)\u001b[0m\u001b[1;33m\u001b[0m\u001b[1;33m\u001b[0m\u001b[0m\n\u001b[0;32m     19\u001b[0m \u001b[1;33m\u001b[0m\u001b[0m\n",
      "\u001b[1;31mRecursionError\u001b[0m: maximum recursion depth exceeded in comparison"
     ]
    }
   ],
   "source": [
    "# lo, hi 가 포인트가 된다.\n",
    "def quicksort(lst,lo,hi):\n",
    "    \n",
    "    def partition(lo,hi):\n",
    "        pivot = lst[hi]\n",
    "        left = lo\n",
    "        for right in range(lo,hi):\n",
    "            if lst[right]<pivot:\n",
    "                lst[left],lst[right] = lst[right], lst[left]\n",
    "                left+=1\n",
    "            \n",
    "        lst[left], lst[hi] = lst[hi], lst[left] # pivot 위치를 바꾸는 것 \n",
    "        return left\n",
    "    # 적당한 partition 후 Pivot 산출\n",
    "    pivot = partition(lo,hi)\n",
    "#     print(pivot)\n",
    "    quicksort(lst,lo,pivot-1)\n",
    "    quicksort(lst,pivot+1,hi)\n",
    "    \n",
    "    return lst\n",
    "quicksort(lst,0,len(lst)-1)"
   ]
  },
  {
   "cell_type": "code",
   "execution_count": null,
   "metadata": {},
   "outputs": [],
   "source": []
  }
 ],
 "metadata": {
  "kernelspec": {
   "display_name": "ion",
   "language": "python",
   "name": "ion"
  },
  "language_info": {
   "codemirror_mode": {
    "name": "ipython",
    "version": 3
   },
   "file_extension": ".py",
   "mimetype": "text/x-python",
   "name": "python",
   "nbconvert_exporter": "python",
   "pygments_lexer": "ipython3",
   "version": "3.7.7"
  }
 },
 "nbformat": 4,
 "nbformat_minor": 4
}
