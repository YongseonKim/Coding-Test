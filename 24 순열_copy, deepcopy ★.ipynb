{
 "cells": [
  {
   "cell_type": "code",
   "execution_count": 1,
   "metadata": {},
   "outputs": [],
   "source": [
    "# https://leetcode.com/problems/permutations/"
   ]
  },
  {
   "cell_type": "code",
   "execution_count": 11,
   "metadata": {},
   "outputs": [
    {
     "data": {
      "text/plain": [
       "3"
      ]
     },
     "execution_count": 11,
     "metadata": {},
     "output_type": "execute_result"
    }
   ],
   "source": [
    "a = [1,2,3]\n",
    "# a.remove(2)\n",
    "a.pop(3)"
   ]
  },
  {
   "cell_type": "code",
   "execution_count": null,
   "metadata": {},
   "outputs": [],
   "source": [
    "class Solution:\n",
    "    def permute(self, nums: List[int]) -> List[List[int]]:\n",
    "        if len(nums) ==0 : return []\n",
    "        results = []\n",
    "        prev_ = []\n",
    "\n",
    "        def dfs(elements):\n",
    "            if len(elements)==0 : \n",
    "                results.append(prev_[:]) # [:] 참조를 끊고 복사해서 넣는 것\n",
    "            \n",
    "            # 반복문을 돌려가며 하나씩 넣는 것\n",
    "            for e in elements:\n",
    "                next_ = elements[:]\n",
    "                next_.remove(e)\n",
    "                \n",
    "                prev_.append(e)\n",
    "                dfs(next_)\n",
    "                # 다음으로 넘어갈땐 저장한 prev_ 지우기\n",
    "                prev_.pop()\n",
    "                \n",
    "            \n",
    "            \n",
    "            \n",
    "        dfs(nums)\n",
    "        return results\n",
    "        \n"
   ]
  },
  {
   "cell_type": "code",
   "execution_count": null,
   "metadata": {},
   "outputs": [],
   "source": [
    "## 실패작\n",
    "\n",
    "class Solution:\n",
    "    def permute(self, nums: List[int]) -> List[List[int]]:\n",
    "        if len(nums) ==0 : return []\n",
    "        results = []\n",
    "        \n",
    "        def dfs(elements,path):\n",
    "            print(path[-1])\n",
    "            elements.remove(path[-1])\n",
    "            \n",
    "            if  not elements or len(elements)==0 : \n",
    "                results.append(path)\n",
    "                return \n",
    "            \n",
    "            print(elements)\n",
    "            path.append(elements[0])\n",
    "            # elements.remove(path[-1])\n",
    "            \n",
    "            dfs(elements,path)\n",
    "\n",
    "            \n",
    "            \n",
    "        for i in range(len(nums)):\n",
    "            print(nums, i)\n",
    "            path = [nums[i]]            \n",
    "            dfs(nums,path) \n",
    "            \n",
    "        return results\n",
    "    "
   ]
  },
  {
   "cell_type": "code",
   "execution_count": null,
   "metadata": {},
   "outputs": [],
   "source": []
  }
 ],
 "metadata": {
  "kernelspec": {
   "display_name": "Python 3",
   "language": "python",
   "name": "python3"
  },
  "language_info": {
   "codemirror_mode": {
    "name": "ipython",
    "version": 3
   },
   "file_extension": ".py",
   "mimetype": "text/x-python",
   "name": "python",
   "nbconvert_exporter": "python",
   "pygments_lexer": "ipython3",
   "version": "3.7.7"
  }
 },
 "nbformat": 4,
 "nbformat_minor": 4
}
