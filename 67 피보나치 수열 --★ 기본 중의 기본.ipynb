{
 "cells": [
  {
   "cell_type": "code",
   "execution_count": 1,
   "metadata": {},
   "outputs": [],
   "source": [
    "# https://leetcode.com/problems/fibonacci-number/"
   ]
  },
  {
   "cell_type": "code",
   "execution_count": null,
   "metadata": {},
   "outputs": [],
   "source": [
    "class Solution:\n",
    "    def fib(self, N: int) -> int:\n",
    "        \n",
    "        # 재귀 풀이\n",
    "        if N<= 1:\n",
    "            return N\n",
    "        \n",
    "        return self.fib(N-1)+self.fib(N-2)\n",
    "        \n",
    "        "
   ]
  },
  {
   "cell_type": "code",
   "execution_count": null,
   "metadata": {},
   "outputs": [],
   "source": [
    "class Solution:\n",
    "    \n",
    "    dic = collections.defaultdict(int)\n",
    "    def fib(self, N: int) -> int:\n",
    "        \n",
    "        # Memoization\n",
    "        \n",
    "        if N<= 1:\n",
    "            return N\n",
    "        \n",
    "        # 결과를 저장하는 것\n",
    "        if self.dic[N]:\n",
    "            return self.dic[N]\n",
    "        \n",
    "        self.dic[N] = self.fib(N-1)+self.fib(N-2)\n",
    "        \n",
    "        return self.dic[N]\n",
    "        \n",
    "        "
   ]
  },
  {
   "cell_type": "code",
   "execution_count": null,
   "metadata": {},
   "outputs": [],
   "source": [
    "class Solution:\n",
    "    dic = collections.defaultdict(int)\n",
    "    def fib(self, N: int) -> int:\n",
    "        # Tabulation\n",
    "        \n",
    "        # 재귀를 사용하지 않고 반복으로 풀이, \n",
    "        # 작은 값부터 직접 계산하여 타뷸레이션 한다. \n",
    "        self.dic[1]= 1\n",
    "        \n",
    "        for i in range(2, N+1):\n",
    "            self.dic[N] = self.dic[N-1]+self.dic[N-2]\n",
    "        \n",
    "        return self.dic[N]\n",
    "        "
   ]
  },
  {
   "cell_type": "code",
   "execution_count": null,
   "metadata": {},
   "outputs": [],
   "source": [
    "class Solution:\n",
    "    def fib(self, N: int) -> int:\n",
    "        # Bottom up 방식을 사용하긴 하되\n",
    "        # Tabulation 하지 않는 방법\n",
    "        # 공간복잡도가 O(1)\n",
    "        \n",
    "        x,y = 0, 1\n",
    "        \n",
    "        for i in range(0,N):\n",
    "            x,y = y, x+y\n",
    "            \n",
    "        return x"
   ]
  },
  {
   "cell_type": "code",
   "execution_count": null,
   "metadata": {},
   "outputs": [],
   "source": []
  }
 ],
 "metadata": {
  "kernelspec": {
   "display_name": "ion",
   "language": "python",
   "name": "ion"
  },
  "language_info": {
   "codemirror_mode": {
    "name": "ipython",
    "version": 3
   },
   "file_extension": ".py",
   "mimetype": "text/x-python",
   "name": "python",
   "nbconvert_exporter": "python",
   "pygments_lexer": "ipython3",
   "version": "3.7.7"
  }
 },
 "nbformat": 4,
 "nbformat_minor": 4
}
