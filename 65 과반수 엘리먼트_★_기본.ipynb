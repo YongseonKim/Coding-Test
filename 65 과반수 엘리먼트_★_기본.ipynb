{
 "cells": [
  {
   "cell_type": "code",
   "execution_count": 1,
   "metadata": {},
   "outputs": [],
   "source": [
    "# https://leetcode.com/problems/majority-element/"
   ]
  },
  {
   "cell_type": "code",
   "execution_count": null,
   "metadata": {},
   "outputs": [],
   "source": []
  },
  {
   "cell_type": "code",
   "execution_count": null,
   "metadata": {},
   "outputs": [],
   "source": [
    "# 과반수 이상인 것 찾기\n",
    "# Counter 활용\n",
    "class Solution:\n",
    "    def majorityElement(self, nums: List[int]) -> int:\n",
    "        cnt = collections.Counter(nums)\n",
    "        \n",
    "        for idx in cnt:\n",
    "            if cnt[idx]/len(nums)>0.5 :\n",
    "                return idx\n",
    "            \n",
    "        return -1"
   ]
  },
  {
   "cell_type": "code",
   "execution_count": null,
   "metadata": {},
   "outputs": [],
   "source": [
    "class Solution:\n",
    "    def majorityElement(self, nums: List[int]) -> int:\n",
    "        # 분할 정복을 활용해서 풀이해보자.\n",
    "        \n",
    "        if len(nums)<1:\n",
    "            return None\n",
    "        if len(nums)==1:\n",
    "            return nums[0]\n",
    "        \n",
    "        a = self.majorityElement(nums[:len(nums)//2])\n",
    "        b = self.majorityElement(nums[len(nums)//2:])\n",
    "        \n",
    "        return [b,a][nums.count(a)>len(nums)//2] \n",
    "    # 2로 나눈 몫 중간보다 카운트가 크면 1 -> a, 아니면 b\n",
    "    \n",
    "        "
   ]
  }
 ],
 "metadata": {
  "kernelspec": {
   "display_name": "ion",
   "language": "python",
   "name": "ion"
  },
  "language_info": {
   "codemirror_mode": {
    "name": "ipython",
    "version": 3
   },
   "file_extension": ".py",
   "mimetype": "text/x-python",
   "name": "python",
   "nbconvert_exporter": "python",
   "pygments_lexer": "ipython3",
   "version": "3.7.7"
  }
 },
 "nbformat": 4,
 "nbformat_minor": 4
}
