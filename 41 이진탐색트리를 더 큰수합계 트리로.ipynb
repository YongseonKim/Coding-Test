{
 "cells": [
  {
   "cell_type": "code",
   "execution_count": null,
   "metadata": {},
   "outputs": [],
   "source": [
    "# Definition for a binary tree node.\n",
    "# class TreeNode:\n",
    "#     def __init__(self, val=0, left=None, right=None):\n",
    "#         self.val = val\n",
    "#         self.left = left\n",
    "#         self.right = right\n",
    "class Solution:\n",
    "    val = 0\n",
    "    def bstToGst(self, root: TreeNode) -> TreeNode:\n",
    "        # 오른쪽부터 누적해서 값을 더해가면 되는 것. \n",
    "        # 오른쪽부터 누적 시키는 방법은 right-> left로 하게 하면 된다.\n",
    "        # 오른쪽부터 누적해서 오자\n",
    "        if root is None:\n",
    "            return 0\n",
    "        # 맨 오른쪽 아래로 내려가게 하는 것:\n",
    "        self.bstToGst(root.right)\n",
    "        self.val += root.val\n",
    "        root.val = self.val #맨 오른쪽 값을 더하는 것\n",
    "        self.bstToGst(root.left)\n",
    "        \n",
    "        return root\n",
    "        "
   ]
  },
  {
   "cell_type": "code",
   "execution_count": null,
   "metadata": {},
   "outputs": [],
   "source": []
  },
  {
   "cell_type": "code",
   "execution_count": null,
   "metadata": {},
   "outputs": [],
   "source": [
    "# 실패\n",
    "# Definition for a binary tree node.\n",
    "# class TreeNode:\n",
    "#     def __init__(self, val=0, left=None, right=None):\n",
    "#         self.val = val\n",
    "#         self.left = left\n",
    "#         self.right = right\n",
    "class Solution:\n",
    "    def bstToGst(self, root: TreeNode) -> TreeNode:\n",
    "        # Node 합계를 만들어가는 것\n",
    "        \n",
    "        if root is None:\n",
    "            return 0\n",
    "        \n",
    "        left = self.bstToGst(root.left)\n",
    "        right = self.bstToGst(root.right)\n",
    "        \n",
    "        print(root,left, right)\n",
    "        \n",
    "        \n",
    "        return right+root.val "
   ]
  }
 ],
 "metadata": {
  "kernelspec": {
   "display_name": "ion",
   "language": "python",
   "name": "ion"
  },
  "language_info": {
   "codemirror_mode": {
    "name": "ipython",
    "version": 3
   },
   "file_extension": ".py",
   "mimetype": "text/x-python",
   "name": "python",
   "nbconvert_exporter": "python",
   "pygments_lexer": "ipython3",
   "version": "3.7.7"
  }
 },
 "nbformat": 4,
 "nbformat_minor": 2
}
