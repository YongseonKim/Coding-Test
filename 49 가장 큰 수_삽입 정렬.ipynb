{
 "cells": [
  {
   "cell_type": "code",
   "execution_count": 1,
   "metadata": {},
   "outputs": [],
   "source": [
    "# https://leetcode.com/problems/largest-number/"
   ]
  },
  {
   "cell_type": "code",
   "execution_count": 2,
   "metadata": {},
   "outputs": [
    {
     "data": {
      "text/plain": [
       "[1, 2, 3, 4, 5]"
      ]
     },
     "execution_count": 2,
     "metadata": {},
     "output_type": "execute_result"
    }
   ],
   "source": [
    "\n",
    "# 삽입 정렬 일반\n",
    "\n",
    "\n",
    "def insertion(lst):\n",
    "    i = 1\n",
    "    while i <len(lst): # 대상 이 끝까지 갈때까지\n",
    "        j = i # 보낼 거\n",
    "        \n",
    "        while j>0 and lst[j-1] > lst[j]: \n",
    "            lst[j-1], lst[j] =  lst[j], lst[j-1]\n",
    "            j -=1\n",
    "            \n",
    "        i +=1\n",
    "    return lst    \n",
    "\n",
    "insertion([5,4,3,2,1])\n",
    "\n"
   ]
  },
  {
   "cell_type": "code",
   "execution_count": null,
   "metadata": {},
   "outputs": [],
   "source": [
    "class Solution:\n",
    "    def largestNumber(self, nums: List[int]) -> str:\n",
    "        # 조합할 수 있는 가장 큰 수\n",
    "        # 항상 큰값이 앞에 나오면 되겠네\n",
    "        # 제약 조건은 34는 분리할 수 없다는 것\n",
    "        # Sort를 해야하는데 제약 조건이 있다. 그 값이 커야한다. \n",
    "        # 삽입 Sort는 어때? -- 삽입 Sort로 해야겠네\n",
    "\n",
    "        # 중간에도 들어갈 수 있다는 것을 간과했다.\n",
    "        # Insertion sort를 구현하는데 대소 관계를 비교할 때 자리수 대로 비교해야한다.\n",
    "        \n",
    "        # nums = [3,30,34,5,9]\n",
    "        i = 1\n",
    "        \n",
    "        while i<len(nums):\n",
    "            j = i\n",
    "            \n",
    "            # 이전의 모든 값과 비교할 필요 없이 바로 전의 값만 비교하면됨\n",
    "            # 자리를 바꾸는게 유리하다면자리릅 ㅏ꾼다.\n",
    "            while j>0 and (str(nums[j-1])+str(nums[j])) < (str(nums[j])+str(nums[j-1])) :\n",
    "                nums[j], nums[j-1] = nums[j-1], nums[j]\n",
    "                \n",
    "                j -=1\n",
    "            i+=1\n",
    "            # print(nums)\n",
    "        return str(int(''.join(map(str, nums)))) ## map 함수를 써서 전부 str로 바꾸는 것\n",
    "    "
   ]
  },
  {
   "cell_type": "code",
   "execution_count": null,
   "metadata": {},
   "outputs": [],
   "source": [
    "# 놓친게 있다.\n",
    "# 중간에 들어갈 수 있다.\n",
    "# 다시\n",
    "\n",
    "class Solution:\n",
    "    def largestNumber(self, nums: List[int]) -> str:\n",
    "        # 조합할 수 있는 가장 큰 수\n",
    "        # 항상 큰값이 앞에 나오면 되겠네\n",
    "        # 제약 조건은 34는 분리할 수 없다는 것\n",
    "        # Sort를 해야하는데 제약 조건이 있다. 그 값이 커야한다. \n",
    "        # 삽입 Sort는 어때? -- 삽입 Sort로 해야겠네\n",
    "        nums = [3,30,34,5,9]\n",
    "        \n",
    "        prev = nums[0]\n",
    "        for idx in range(1,len(nums)):\n",
    "            cur = nums[idx]\n",
    "            idx-=1\n",
    "            while idx>=0 :\n",
    "                print(cur)\n",
    "                print(int(str(cur)+str(nums[idx])),\n",
    "                           # prev,\n",
    "                           int(str(nums[idx])+str(cur)))\n",
    "                \n",
    "                # 어디에 붙이면 좋을지 정해서 넣는 것\n",
    "                prev = max(int(str(cur)+str(nums[idx])),\n",
    "                           # prev,\n",
    "                           int(str(nums[idx])+str(cur)))\n",
    "                # print(prev, idx)\n",
    "                idx-=1\n",
    "        return str(prev)\n",
    "        \n",
    "        \n"
   ]
  }
 ],
 "metadata": {
  "kernelspec": {
   "display_name": "ion",
   "language": "python",
   "name": "ion"
  },
  "language_info": {
   "codemirror_mode": {
    "name": "ipython",
    "version": 3
   },
   "file_extension": ".py",
   "mimetype": "text/x-python",
   "name": "python",
   "nbconvert_exporter": "python",
   "pygments_lexer": "ipython3",
   "version": "3.7.7"
  }
 },
 "nbformat": 4,
 "nbformat_minor": 4
}
