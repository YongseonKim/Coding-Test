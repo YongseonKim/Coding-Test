{
 "cells": [
  {
   "cell_type": "code",
   "execution_count": 1,
   "metadata": {},
   "outputs": [],
   "source": [
    "# https://leetcode.com/problems/longest-univalue-path/"
   ]
  },
  {
   "cell_type": "code",
   "execution_count": null,
   "metadata": {},
   "outputs": [],
   "source": [
    "# Definition for a binary tree node.\n",
    "# class TreeNode:\n",
    "#     def __init__(self, val=0, left=None, right=None):\n",
    "#         self.val = val\n",
    "#         self.left = left\n",
    "#         self.right = right\n",
    "class Solution:\n",
    "    longest =0\n",
    "    def longestUnivaluePath(self, root: TreeNode) -> int:\n",
    "        \n",
    "        # univalue? 동일한 값을 가진\n",
    "        # 동일한 값을 지닌 가장 긴 경로 \n",
    "        def dfs(node):\n",
    "            if node is None:\n",
    "                return 0\n",
    "            \n",
    "            # 상태값 계산 + 조건 : Univalue \n",
    "            left = dfs(node.left)\n",
    "            right = dfs(node.right)\n",
    "            \n",
    "            # left, right가  다르면 안하는 거네 \n",
    "            # 현재노드와 자식노드가 일치하면 거리 1 증가 아니면 0\n",
    "            if node.left and node.val == node.left.val: ## left, right value끼리 비교!!\n",
    "                left +=1\n",
    "            else : \n",
    "                left = 0 # 하나라도 다르면 0을 입력한다.\n",
    "                \n",
    "            if node.right and node.val == node.right.val:\n",
    "                right +=1\n",
    "            else :\n",
    "                right =0\n",
    "            \n",
    "            self.longest = max(self.longest,left+right)\n",
    "            \n",
    "            return max(left,right) ## max depth\n",
    "        \n",
    "        dfs(root)\n",
    "        return self.longest"
   ]
  },
  {
   "cell_type": "code",
   "execution_count": null,
   "metadata": {},
   "outputs": [],
   "source": []
  },
  {
   "cell_type": "code",
   "execution_count": null,
   "metadata": {},
   "outputs": [],
   "source": []
  }
 ],
 "metadata": {
  "kernelspec": {
   "display_name": "ion",
   "language": "python",
   "name": "ion"
  },
  "language_info": {
   "codemirror_mode": {
    "name": "ipython",
    "version": 3
   },
   "file_extension": ".py",
   "mimetype": "text/x-python",
   "name": "python",
   "nbconvert_exporter": "python",
   "pygments_lexer": "ipython3",
   "version": "3.7.7"
  }
 },
 "nbformat": 4,
 "nbformat_minor": 2
}
